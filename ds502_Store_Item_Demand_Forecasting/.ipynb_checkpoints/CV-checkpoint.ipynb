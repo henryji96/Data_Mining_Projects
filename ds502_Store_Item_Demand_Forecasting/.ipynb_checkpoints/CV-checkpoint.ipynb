{
 "cells": [
  {
   "cell_type": "code",
   "execution_count": 1,
   "metadata": {},
   "outputs": [
    {
     "data": {
      "text/html": [
       "<div>\n",
       "<style scoped>\n",
       "    .dataframe tbody tr th:only-of-type {\n",
       "        vertical-align: middle;\n",
       "    }\n",
       "\n",
       "    .dataframe tbody tr th {\n",
       "        vertical-align: top;\n",
       "    }\n",
       "\n",
       "    .dataframe thead th {\n",
       "        text-align: right;\n",
       "    }\n",
       "</style>\n",
       "<table border=\"1\" class=\"dataframe\">\n",
       "  <thead>\n",
       "    <tr style=\"text-align: right;\">\n",
       "      <th></th>\n",
       "      <th>0</th>\n",
       "      <th>1</th>\n",
       "      <th>2</th>\n",
       "      <th>3</th>\n",
       "      <th>4</th>\n",
       "      <th>5</th>\n",
       "      <th>6</th>\n",
       "      <th>7</th>\n",
       "      <th>8</th>\n",
       "      <th>9</th>\n",
       "      <th>10</th>\n",
       "      <th>11</th>\n",
       "      <th>12</th>\n",
       "      <th>13</th>\n",
       "      <th>14</th>\n",
       "      <th>15</th>\n",
       "      <th>16</th>\n",
       "      <th>17</th>\n",
       "      <th>18</th>\n",
       "      <th>19</th>\n",
       "    </tr>\n",
       "  </thead>\n",
       "  <tbody>\n",
       "    <tr>\n",
       "      <th>0</th>\n",
       "      <td>-2.249939</td>\n",
       "      <td>1.048186</td>\n",
       "      <td>0.012714</td>\n",
       "      <td>0.007369</td>\n",
       "      <td>0.518643</td>\n",
       "      <td>0.606623</td>\n",
       "      <td>-0.286756</td>\n",
       "      <td>-0.086960</td>\n",
       "      <td>0.337613</td>\n",
       "      <td>0.194917</td>\n",
       "      <td>0.149443</td>\n",
       "      <td>-0.737422</td>\n",
       "      <td>-0.007271</td>\n",
       "      <td>-0.262465</td>\n",
       "      <td>0.613667</td>\n",
       "      <td>-0.413019</td>\n",
       "      <td>0.227654</td>\n",
       "      <td>0.142097</td>\n",
       "      <td>0.304900</td>\n",
       "      <td>0.098731</td>\n",
       "    </tr>\n",
       "    <tr>\n",
       "      <th>1</th>\n",
       "      <td>-2.250347</td>\n",
       "      <td>1.046002</td>\n",
       "      <td>0.016479</td>\n",
       "      <td>0.004882</td>\n",
       "      <td>0.525589</td>\n",
       "      <td>0.611151</td>\n",
       "      <td>-0.286119</td>\n",
       "      <td>-0.087175</td>\n",
       "      <td>0.165061</td>\n",
       "      <td>0.227806</td>\n",
       "      <td>0.129128</td>\n",
       "      <td>-0.640987</td>\n",
       "      <td>-0.010857</td>\n",
       "      <td>-0.261853</td>\n",
       "      <td>0.614591</td>\n",
       "      <td>-0.416652</td>\n",
       "      <td>0.227361</td>\n",
       "      <td>0.143765</td>\n",
       "      <td>0.322751</td>\n",
       "      <td>-0.108724</td>\n",
       "    </tr>\n",
       "  </tbody>\n",
       "</table>\n",
       "</div>"
      ],
      "text/plain": [
       "          0         1         2         3         4         5         6         7         8         9        10        11        12        13        14        15        16        17        18        19\n",
       "0 -2.249939  1.048186  0.012714  0.007369  0.518643  0.606623 -0.286756 -0.086960  0.337613  0.194917  0.149443 -0.737422 -0.007271 -0.262465  0.613667 -0.413019  0.227654  0.142097  0.304900  0.098731\n",
       "1 -2.250347  1.046002  0.016479  0.004882  0.525589  0.611151 -0.286119 -0.087175  0.165061  0.227806  0.129128 -0.640987 -0.010857 -0.261853  0.614591 -0.416652  0.227361  0.143765  0.322751 -0.108724"
      ]
     },
     "metadata": {},
     "output_type": "display_data"
    },
    {
     "data": {
      "text/html": [
       "<div>\n",
       "<style scoped>\n",
       "    .dataframe tbody tr th:only-of-type {\n",
       "        vertical-align: middle;\n",
       "    }\n",
       "\n",
       "    .dataframe tbody tr th {\n",
       "        vertical-align: top;\n",
       "    }\n",
       "\n",
       "    .dataframe thead th {\n",
       "        text-align: right;\n",
       "    }\n",
       "</style>\n",
       "<table border=\"1\" class=\"dataframe\">\n",
       "  <thead>\n",
       "    <tr style=\"text-align: right;\">\n",
       "      <th></th>\n",
       "      <th>sales</th>\n",
       "    </tr>\n",
       "  </thead>\n",
       "  <tbody>\n",
       "    <tr>\n",
       "      <th>0</th>\n",
       "      <td>13</td>\n",
       "    </tr>\n",
       "    <tr>\n",
       "      <th>1</th>\n",
       "      <td>11</td>\n",
       "    </tr>\n",
       "  </tbody>\n",
       "</table>\n",
       "</div>"
      ],
      "text/plain": [
       "   sales\n",
       "0     13\n",
       "1     11"
      ]
     },
     "metadata": {},
     "output_type": "display_data"
    }
   ],
   "source": [
    "import numpy as np # linear algebra\n",
    "import pandas as pd # data processing, CSV file I/O (e.g. pd.read_csv)\n",
    "import datetime\n",
    "from sklearn.model_selection import train_test_split\n",
    "%matplotlib inline\n",
    "import matplotlib.pyplot as plt\n",
    "import seaborn as sns\n",
    "from IPython.display import display\n",
    "\n",
    "#pandas：\n",
    "pd.set_option('display.max_rows', 5000)\n",
    "pd.set_option('display.max_columns', 5000)\n",
    "pd.set_option('display.width', 1000)\n",
    "\n",
    "train = pd.read_csv('/floyd/input/store_item_sales_pca/trainX.csv').drop(['Unnamed: 0'],1)\n",
    "display(train.head(2))\n",
    "test = pd.read_csv('/floyd/input/store_item_sales_pca/trainY.csv').drop(['Unnamed: 0'],1)\n",
    "display(test.head(2))"
   ]
  },
  {
   "cell_type": "code",
   "execution_count": 2,
   "metadata": {},
   "outputs": [],
   "source": [
    "from sklearn.model_selection import train_test_split\n",
    "X_train, X_valid, y_train, y_valid = \\\n",
    "    train_test_split(train, test.values.ravel(), test_size=0.3, random_state=42)"
   ]
  },
  {
   "cell_type": "code",
   "execution_count": 3,
   "metadata": {},
   "outputs": [],
   "source": [
    "import numpy as np\n",
    "from sklearn.metrics import mean_absolute_error\n",
    "from sklearn.metrics import mean_squared_error\n",
    "from sklearn.metrics import r2_score\n",
    "def smape(A, F):\n",
    "    return 100/len(A) * np.sum(2 * np.abs(F - A) / (np.abs(A) + np.abs(F)))"
   ]
  },
  {
   "cell_type": "code",
   "execution_count": 5,
   "metadata": {},
   "outputs": [
    {
     "name": "stdout",
     "output_type": "stream",
     "text": [
      "MAE: 9.248808379061574\n",
      "MSE: 147.8367220495101\n",
      "R2 0.8219493238185142\n"
     ]
    }
   ],
   "source": [
    "from sklearn.linear_model import LinearRegression\n",
    "reg1 = LinearRegression()\n",
    "reg1.fit(X_train,y_train)\n",
    "y_valid_pred = reg1.predict(X_valid)\n",
    "#print(smape(y_valid, y_valid_pred)[0])\n",
    "print('MAE:',mean_absolute_error(y_valid, y_valid_pred))\n",
    "print('MSE:',mean_squared_error(y_valid, y_valid_pred))\n",
    "print('R2',r2_score(y_valid, y_valid_pred))"
   ]
  },
  {
   "cell_type": "code",
   "execution_count": 6,
   "metadata": {},
   "outputs": [
    {
     "name": "stdout",
     "output_type": "stream",
     "text": [
      "MAE: 9.248803314018321\n",
      "MSE: 147.8367158368164\n",
      "R2 0.8219493313009196\n"
     ]
    }
   ],
   "source": [
    "from sklearn.linear_model import Ridge\n",
    "reg2 = Ridge()\n",
    "reg2.fit(X_train,y_train)\n",
    "y_valid_pred = reg2.predict(X_valid)\n",
    "\n",
    "print('MAE:',mean_absolute_error(y_valid, y_valid_pred))\n",
    "print('MSE:',mean_squared_error(y_valid, y_valid_pred))\n",
    "print('R2',r2_score(y_valid, y_valid_pred))"
   ]
  },
  {
   "cell_type": "code",
   "execution_count": 7,
   "metadata": {},
   "outputs": [
    {
     "name": "stdout",
     "output_type": "stream",
     "text": [
      "MAE: 10.011116762017576\n",
      "MSE: 180.932296096414\n",
      "R2 0.7820898812120132\n"
     ]
    }
   ],
   "source": [
    "from sklearn.linear_model import Lasso\n",
    "reg3 = Lasso()\n",
    "reg3.fit(X_train,y_train)\n",
    "y_valid_pred = reg3.predict(X_valid)\n",
    "\n",
    "print('MAE:',mean_absolute_error(y_valid, y_valid_pred))\n",
    "print('MSE:',mean_squared_error(y_valid, y_valid_pred))\n",
    "print('R2',r2_score(y_valid, y_valid_pred))"
   ]
  },
  {
   "cell_type": "code",
   "execution_count": 8,
   "metadata": {},
   "outputs": [],
   "source": [
    "# from sklearn.svm import SVR\n",
    "# reg4 = SVR()\n",
    "# reg4.fit(X_train,y_train)\n",
    "# y_valid_pred = reg4.predict(X_valid)\n",
    "\n",
    "# print('MAE:',mean_absolute_error(y_valid, y_valid_pred))\n",
    "# print('MSE:',mean_squared_error(y_valid, y_valid_pred))\n",
    "# print('R2',r2_score(y_valid, y_valid_pred))"
   ]
  },
  {
   "cell_type": "code",
   "execution_count": 9,
   "metadata": {},
   "outputs": [
    {
     "name": "stdout",
     "output_type": "stream",
     "text": [
      "MAE: 6.672290617013506\n",
      "MSE: 77.10237020810514\n",
      "R2 0.9071399246382718\n"
     ]
    }
   ],
   "source": [
    "from sklearn.neighbors import KNeighborsRegressor\n",
    "reg5 = KNeighborsRegressor()\n",
    "reg5.fit(X_train,y_train)\n",
    "y_valid_pred = reg5.predict(X_valid)\n",
    "\n",
    "print('MAE:',mean_absolute_error(y_valid, y_valid_pred))\n",
    "print('MSE:',mean_squared_error(y_valid, y_valid_pred))\n",
    "print('R2',r2_score(y_valid, y_valid_pred))"
   ]
  },
  {
   "cell_type": "code",
   "execution_count": 10,
   "metadata": {},
   "outputs": [
    {
     "name": "stdout",
     "output_type": "stream",
     "text": [
      "MAE: 8.921361810879883\n",
      "MSE: 141.04104052573933\n",
      "R2 0.83013386466633\n"
     ]
    }
   ],
   "source": [
    "from sklearn.tree import DecisionTreeRegressor\n",
    "reg6 = DecisionTreeRegressor()\n",
    "reg6.fit(X_train,y_train)\n",
    "y_valid_pred = reg6.predict(X_valid)\n",
    "\n",
    "print('MAE:',mean_absolute_error(y_valid, y_valid_pred))\n",
    "print('MSE:',mean_squared_error(y_valid, y_valid_pred))\n",
    "print('R2',r2_score(y_valid, y_valid_pred))"
   ]
  },
  {
   "cell_type": "code",
   "execution_count": 11,
   "metadata": {},
   "outputs": [
    {
     "name": "stdout",
     "output_type": "stream",
     "text": [
      "MAE: 6.370169112814897\n",
      "MSE: 69.79656913618109\n",
      "R2 0.9159388401098139\n"
     ]
    }
   ],
   "source": [
    "from sklearn.ensemble import RandomForestRegressor\n",
    "reg7 = RandomForestRegressor(n_estimators = 50)\n",
    "reg7.fit(X_train,y_train)\n",
    "y_valid_pred = reg7.predict(X_valid)\n",
    "\n",
    "print('MAE:',mean_absolute_error(y_valid, y_valid_pred))\n",
    "print('MSE:',mean_squared_error(y_valid, y_valid_pred))\n",
    "print('R2',r2_score(y_valid, y_valid_pred))"
   ]
  },
  {
   "cell_type": "code",
   "execution_count": null,
   "metadata": {},
   "outputs": [],
   "source": [
    "from sklearn.ensemble import RandomForestRegressor\n",
    "reg7 = RandomForestRegressor(n_estimators = 50)\n",
    "reg7.fit(X_train,y_train)\n",
    "y_valid_pred = reg7.predict(X_valid)\n",
    "\n",
    "print('MAE:',mean_absolute_error(y_valid, y_valid_pred))\n",
    "print('MSE:',mean_squared_error(y_valid, y_valid_pred))\n",
    "print('R2',r2_score(y_valid, y_valid_pred))"
   ]
  },
  {
   "cell_type": "code",
   "execution_count": null,
   "metadata": {},
   "outputs": [],
   "source": []
  },
  {
   "cell_type": "code",
   "execution_count": 12,
   "metadata": {},
   "outputs": [
    {
     "name": "stdout",
     "output_type": "stream",
     "text": [
      "MAE: 8.416835949946952\n",
      "MSE: 124.94709336194484\n",
      "R2 0.8495169931287092\n"
     ]
    }
   ],
   "source": [
    "from sklearn.ensemble import GradientBoostingRegressor\n",
    "reg8 = GradientBoostingRegressor(n_estimators = 50)\n",
    "reg8.fit(X_train,y_train)\n",
    "y_valid_pred = reg8.predict(X_valid)\n",
    "\n",
    "print('MAE:',mean_absolute_error(y_valid, y_valid_pred))\n",
    "print('MSE:',mean_squared_error(y_valid, y_valid_pred))\n",
    "print('R2',r2_score(y_valid, y_valid_pred))"
   ]
  },
  {
   "cell_type": "code",
   "execution_count": null,
   "metadata": {},
   "outputs": [],
   "source": []
  },
  {
   "cell_type": "markdown",
   "metadata": {},
   "source": [
    "#### Cross Validation on KNN"
   ]
  },
  {
   "cell_type": "code",
   "execution_count": 22,
   "metadata": {},
   "outputs": [
    {
     "data": {
      "text/plain": [
       "GridSearchCV(cv=3, error_score='raise',\n",
       "       estimator=KNeighborsRegressor(algorithm='auto', leaf_size=30, metric='minkowski',\n",
       "          metric_params=None, n_jobs=1, n_neighbors=5, p=2,\n",
       "          weights='uniform'),\n",
       "       fit_params=None, iid=True, n_jobs=1,\n",
       "       param_grid={'n_neighbors': [3, 5, 7]}, pre_dispatch='2*n_jobs',\n",
       "       refit=True, return_train_score='warn',\n",
       "       scoring=make_scorer(r2_score), verbose=0)"
      ]
     },
     "execution_count": 22,
     "metadata": {},
     "output_type": "execute_result"
    }
   ],
   "source": [
    "#train rf\n",
    "from sklearn.neighbors import KNeighborsRegressor\n",
    "from sklearn.model_selection import GridSearchCV\n",
    "from sklearn.metrics import make_scorer,r2_score\n",
    "\n",
    "learner=KNeighborsRegressor()\n",
    "scorer = make_scorer(r2_score)    \n",
    "# Apply  GridSearchCV to do the cross validation and find optimal parameters\n",
    "parameters = {'n_neighbors':[3,5,7]}\n",
    "grid_obj =  GridSearchCV(learner,parameters,cv=3,scoring=scorer)\n",
    "grid_obj.fit(X_train,y_train)  # Fit the data"
   ]
  },
  {
   "cell_type": "code",
   "execution_count": 23,
   "metadata": {},
   "outputs": [
    {
     "name": "stdout",
     "output_type": "stream",
     "text": [
      "MAE: 6.672290617013506\n",
      "MSE: 77.10237020810514\n",
      "R2 0.9071399246382718\n"
     ]
    }
   ],
   "source": [
    "y_valid_pred = grid_obj.predict(X_valid)\n",
    "\n",
    "print('MAE:',mean_absolute_error(y_valid, y_valid_pred))\n",
    "print('MSE:',mean_squared_error(y_valid, y_valid_pred))\n",
    "print('R2',r2_score(y_valid, y_valid_pred))"
   ]
  },
  {
   "cell_type": "code",
   "execution_count": null,
   "metadata": {},
   "outputs": [],
   "source": []
  },
  {
   "cell_type": "markdown",
   "metadata": {},
   "source": [
    "#### Cross Validation on RF"
   ]
  },
  {
   "cell_type": "code",
   "execution_count": null,
   "metadata": {},
   "outputs": [],
   "source": [
    "#train rf\n",
    "from sklearn.ensemble import RandomForestRegressor\n",
    "from sklearn.model_selection import GridSearchCV\n",
    "\n",
    "learner=RandomForestRegressor(n_estimators = 200,random_state=1000,max_features='auto')\n",
    "scorer = make_scorer(r2_score)    \n",
    "# Apply  GridSearchCV to do the cross validation and find optimal parameters\n",
    "parameters = {'min_samples_leaf':[5,10]}\n",
    "grid_obj2 =  GridSearchCV(learner,parameters,cv=3,scoring=scorer)\n",
    "grid_obj2.fit(train, test.values.ravel())  # Fit the data"
   ]
  },
  {
   "cell_type": "code",
   "execution_count": null,
   "metadata": {},
   "outputs": [],
   "source": [
    "y_valid_pred = grid_obj2.predict(X_valid)\n",
    "\n",
    "print('MAE:',mean_absolute_error(y_valid, y_valid_pred))\n",
    "print('MSE:',mean_squared_error(y_valid, y_valid_pred))\n",
    "print('R2',r2_score(y_valid, y_valid_pred))"
   ]
  },
  {
   "cell_type": "code",
   "execution_count": null,
   "metadata": {},
   "outputs": [],
   "source": []
  }
 ],
 "metadata": {
  "kernelspec": {
   "display_name": "Python 3",
   "language": "python",
   "name": "python3"
  },
  "language_info": {
   "codemirror_mode": {
    "name": "ipython",
    "version": 3
   },
   "file_extension": ".py",
   "mimetype": "text/x-python",
   "name": "python",
   "nbconvert_exporter": "python",
   "pygments_lexer": "ipython3",
   "version": "3.6.5"
  }
 },
 "nbformat": 4,
 "nbformat_minor": 2
}
