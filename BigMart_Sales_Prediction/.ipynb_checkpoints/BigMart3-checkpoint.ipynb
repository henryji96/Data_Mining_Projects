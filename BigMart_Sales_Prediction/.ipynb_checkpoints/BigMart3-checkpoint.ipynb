{
 "cells": [
  {
   "cell_type": "code",
   "execution_count": 344,
   "metadata": {},
   "outputs": [],
   "source": [
    "import pandas as pd\n",
    "import numpy as np\n",
    "from scipy.stats import mode\n",
    "import math\n",
    "\n",
    "from IPython.display import display\n",
    "import matplotlib.pyplot as plt\n",
    "import seaborn as sns\n",
    "from mpl_toolkits.mplot3d import Axes3D\n",
    "from plot_util import plotCorrelationMatrix, plotPerColumnDistribution, plotScatterMatrix\n",
    "\n",
    "from sklearn.preprocessing import StandardScaler\n",
    "\n",
    "import warnings\n",
    "warnings.filterwarnings('ignore')\n",
    "\n",
    "#pandas：\n",
    "pd.set_option('display.max_rows', 500)\n",
    "pd.set_option('display.max_columns', 500)\n",
    "pd.set_option('display.width', 1000)"
   ]
  },
  {
   "cell_type": "code",
   "execution_count": 345,
   "metadata": {},
   "outputs": [
    {
     "name": "stdout",
     "output_type": "stream",
     "text": [
      "df_train shape: (8523, 12)\n"
     ]
    },
    {
     "data": {
      "text/html": [
       "<div>\n",
       "<style scoped>\n",
       "    .dataframe tbody tr th:only-of-type {\n",
       "        vertical-align: middle;\n",
       "    }\n",
       "\n",
       "    .dataframe tbody tr th {\n",
       "        vertical-align: top;\n",
       "    }\n",
       "\n",
       "    .dataframe thead th {\n",
       "        text-align: right;\n",
       "    }\n",
       "</style>\n",
       "<table border=\"1\" class=\"dataframe\">\n",
       "  <thead>\n",
       "    <tr style=\"text-align: right;\">\n",
       "      <th></th>\n",
       "      <th>Item_Identifier</th>\n",
       "      <th>Item_Weight</th>\n",
       "      <th>Item_Fat_Content</th>\n",
       "      <th>Item_Visibility</th>\n",
       "      <th>Item_Type</th>\n",
       "      <th>Item_MRP</th>\n",
       "      <th>Outlet_Identifier</th>\n",
       "      <th>Outlet_Establishment_Year</th>\n",
       "      <th>Outlet_Size</th>\n",
       "      <th>Outlet_Location_Type</th>\n",
       "      <th>Outlet_Type</th>\n",
       "      <th>Item_Outlet_Sales</th>\n",
       "    </tr>\n",
       "  </thead>\n",
       "  <tbody>\n",
       "    <tr>\n",
       "      <th>0</th>\n",
       "      <td>FDA15</td>\n",
       "      <td>9.3</td>\n",
       "      <td>Low Fat</td>\n",
       "      <td>0.016047</td>\n",
       "      <td>Dairy</td>\n",
       "      <td>249.8092</td>\n",
       "      <td>OUT049</td>\n",
       "      <td>1999</td>\n",
       "      <td>Medium</td>\n",
       "      <td>Tier 1</td>\n",
       "      <td>Supermarket Type1</td>\n",
       "      <td>3735.138</td>\n",
       "    </tr>\n",
       "  </tbody>\n",
       "</table>\n",
       "</div>"
      ],
      "text/plain": [
       "  Item_Identifier  Item_Weight Item_Fat_Content  Item_Visibility Item_Type  Item_MRP Outlet_Identifier  Outlet_Establishment_Year Outlet_Size Outlet_Location_Type        Outlet_Type  Item_Outlet_Sales\n",
       "0           FDA15          9.3          Low Fat         0.016047     Dairy  249.8092            OUT049                       1999      Medium               Tier 1  Supermarket Type1           3735.138"
      ]
     },
     "metadata": {},
     "output_type": "display_data"
    },
    {
     "name": "stdout",
     "output_type": "stream",
     "text": [
      "df_test shape: (5681, 11)\n"
     ]
    },
    {
     "data": {
      "text/html": [
       "<div>\n",
       "<style scoped>\n",
       "    .dataframe tbody tr th:only-of-type {\n",
       "        vertical-align: middle;\n",
       "    }\n",
       "\n",
       "    .dataframe tbody tr th {\n",
       "        vertical-align: top;\n",
       "    }\n",
       "\n",
       "    .dataframe thead th {\n",
       "        text-align: right;\n",
       "    }\n",
       "</style>\n",
       "<table border=\"1\" class=\"dataframe\">\n",
       "  <thead>\n",
       "    <tr style=\"text-align: right;\">\n",
       "      <th></th>\n",
       "      <th>Item_Identifier</th>\n",
       "      <th>Item_Weight</th>\n",
       "      <th>Item_Fat_Content</th>\n",
       "      <th>Item_Visibility</th>\n",
       "      <th>Item_Type</th>\n",
       "      <th>Item_MRP</th>\n",
       "      <th>Outlet_Identifier</th>\n",
       "      <th>Outlet_Establishment_Year</th>\n",
       "      <th>Outlet_Size</th>\n",
       "      <th>Outlet_Location_Type</th>\n",
       "      <th>Outlet_Type</th>\n",
       "    </tr>\n",
       "  </thead>\n",
       "  <tbody>\n",
       "    <tr>\n",
       "      <th>0</th>\n",
       "      <td>FDW58</td>\n",
       "      <td>20.75</td>\n",
       "      <td>Low Fat</td>\n",
       "      <td>0.007565</td>\n",
       "      <td>Snack Foods</td>\n",
       "      <td>107.8622</td>\n",
       "      <td>OUT049</td>\n",
       "      <td>1999</td>\n",
       "      <td>Medium</td>\n",
       "      <td>Tier 1</td>\n",
       "      <td>Supermarket Type1</td>\n",
       "    </tr>\n",
       "  </tbody>\n",
       "</table>\n",
       "</div>"
      ],
      "text/plain": [
       "  Item_Identifier  Item_Weight Item_Fat_Content  Item_Visibility    Item_Type  Item_MRP Outlet_Identifier  Outlet_Establishment_Year Outlet_Size Outlet_Location_Type        Outlet_Type\n",
       "0           FDW58        20.75          Low Fat         0.007565  Snack Foods  107.8622            OUT049                       1999      Medium               Tier 1  Supermarket Type1"
      ]
     },
     "metadata": {},
     "output_type": "display_data"
    },
    {
     "name": "stdout",
     "output_type": "stream",
     "text": [
      "df_all shape: (14204, 13)\n"
     ]
    }
   ],
   "source": [
    "df_train = pd.read_csv(\"Train_data.csv\")\n",
    "print(\"df_train shape:\", df_train.shape)\n",
    "display(df_train.head(1))\n",
    "\n",
    "df_test = pd.read_csv(\"Test_data.csv\")\n",
    "print(\"df_test shape:\", df_test.shape)\n",
    "display(df_test.head(1))\n",
    "\n",
    "\n",
    "df_train['train_test'] = 'train'\n",
    "df_test['Item_Outlet_Sales'] = np.nan\n",
    "df_test['train_test'] = 'test'\n",
    "df_all = pd.concat([df_train,df_test])\n",
    "print(\"df_all shape:\", df_all.shape)"
   ]
  },
  {
   "cell_type": "code",
   "execution_count": 346,
   "metadata": {},
   "outputs": [
    {
     "data": {
      "text/html": [
       "<div>\n",
       "<style scoped>\n",
       "    .dataframe tbody tr th:only-of-type {\n",
       "        vertical-align: middle;\n",
       "    }\n",
       "\n",
       "    .dataframe tbody tr th {\n",
       "        vertical-align: top;\n",
       "    }\n",
       "\n",
       "    .dataframe thead th {\n",
       "        text-align: right;\n",
       "    }\n",
       "</style>\n",
       "<table border=\"1\" class=\"dataframe\">\n",
       "  <thead>\n",
       "    <tr style=\"text-align: right;\">\n",
       "      <th></th>\n",
       "      <th>Item_Weight</th>\n",
       "      <th>Item_Visibility</th>\n",
       "      <th>Item_MRP</th>\n",
       "      <th>Outlet_Establishment_Year</th>\n",
       "      <th>Item_Outlet_Sales</th>\n",
       "    </tr>\n",
       "  </thead>\n",
       "  <tbody>\n",
       "    <tr>\n",
       "      <th>count</th>\n",
       "      <td>11765.000000</td>\n",
       "      <td>14204.000000</td>\n",
       "      <td>14204.000000</td>\n",
       "      <td>14204.000000</td>\n",
       "      <td>8523.000000</td>\n",
       "    </tr>\n",
       "    <tr>\n",
       "      <th>mean</th>\n",
       "      <td>12.792854</td>\n",
       "      <td>0.065953</td>\n",
       "      <td>141.004977</td>\n",
       "      <td>1997.830681</td>\n",
       "      <td>2181.288914</td>\n",
       "    </tr>\n",
       "    <tr>\n",
       "      <th>std</th>\n",
       "      <td>4.652502</td>\n",
       "      <td>0.051459</td>\n",
       "      <td>62.086938</td>\n",
       "      <td>8.371664</td>\n",
       "      <td>1706.499616</td>\n",
       "    </tr>\n",
       "    <tr>\n",
       "      <th>min</th>\n",
       "      <td>4.555000</td>\n",
       "      <td>0.000000</td>\n",
       "      <td>31.290000</td>\n",
       "      <td>1985.000000</td>\n",
       "      <td>33.290000</td>\n",
       "    </tr>\n",
       "    <tr>\n",
       "      <th>25%</th>\n",
       "      <td>8.710000</td>\n",
       "      <td>0.027036</td>\n",
       "      <td>94.012000</td>\n",
       "      <td>1987.000000</td>\n",
       "      <td>834.247400</td>\n",
       "    </tr>\n",
       "    <tr>\n",
       "      <th>50%</th>\n",
       "      <td>12.600000</td>\n",
       "      <td>0.054021</td>\n",
       "      <td>142.247000</td>\n",
       "      <td>1999.000000</td>\n",
       "      <td>1794.331000</td>\n",
       "    </tr>\n",
       "    <tr>\n",
       "      <th>75%</th>\n",
       "      <td>16.750000</td>\n",
       "      <td>0.094037</td>\n",
       "      <td>185.855600</td>\n",
       "      <td>2004.000000</td>\n",
       "      <td>3101.296400</td>\n",
       "    </tr>\n",
       "    <tr>\n",
       "      <th>max</th>\n",
       "      <td>21.350000</td>\n",
       "      <td>0.328391</td>\n",
       "      <td>266.888400</td>\n",
       "      <td>2009.000000</td>\n",
       "      <td>13086.964800</td>\n",
       "    </tr>\n",
       "  </tbody>\n",
       "</table>\n",
       "</div>"
      ],
      "text/plain": [
       "        Item_Weight  Item_Visibility      Item_MRP  Outlet_Establishment_Year  Item_Outlet_Sales\n",
       "count  11765.000000     14204.000000  14204.000000               14204.000000        8523.000000\n",
       "mean      12.792854         0.065953    141.004977                1997.830681        2181.288914\n",
       "std        4.652502         0.051459     62.086938                   8.371664        1706.499616\n",
       "min        4.555000         0.000000     31.290000                1985.000000          33.290000\n",
       "25%        8.710000         0.027036     94.012000                1987.000000         834.247400\n",
       "50%       12.600000         0.054021    142.247000                1999.000000        1794.331000\n",
       "75%       16.750000         0.094037    185.855600                2004.000000        3101.296400\n",
       "max       21.350000         0.328391    266.888400                2009.000000       13086.964800"
      ]
     },
     "execution_count": 346,
     "metadata": {},
     "output_type": "execute_result"
    }
   ],
   "source": [
    "df_all.describe()"
   ]
  },
  {
   "cell_type": "code",
   "execution_count": 347,
   "metadata": {},
   "outputs": [
    {
     "data": {
      "text/plain": [
       "Item_Identifier               1559\n",
       "Item_Weight                    416\n",
       "Item_Fat_Content                 5\n",
       "Item_Visibility              13006\n",
       "Item_Type                       16\n",
       "Item_MRP                      8052\n",
       "Outlet_Identifier               10\n",
       "Outlet_Establishment_Year        9\n",
       "Outlet_Size                      4\n",
       "Outlet_Location_Type             3\n",
       "Outlet_Type                      4\n",
       "Item_Outlet_Sales             3494\n",
       "train_test                       2\n",
       "dtype: int64"
      ]
     },
     "execution_count": 347,
     "metadata": {},
     "output_type": "execute_result"
    }
   ],
   "source": [
    "df_all.apply(lambda x: len(x.unique()))"
   ]
  },
  {
   "cell_type": "markdown",
   "metadata": {},
   "source": [
    "# 1.Data Cleaning & Feature Engineering"
   ]
  },
  {
   "cell_type": "markdown",
   "metadata": {},
   "source": [
    "### 1.1 check missing values"
   ]
  },
  {
   "cell_type": "code",
   "execution_count": 348,
   "metadata": {},
   "outputs": [
    {
     "name": "stdout",
     "output_type": "stream",
     "text": [
      "Train NaN Values:\n",
      "Item_Identifier                 0\n",
      "Item_Weight                  1463\n",
      "Item_Fat_Content                0\n",
      "Item_Visibility                 0\n",
      "Item_Type                       0\n",
      "Item_MRP                        0\n",
      "Outlet_Identifier               0\n",
      "Outlet_Establishment_Year       0\n",
      "Outlet_Size                  2410\n",
      "Outlet_Location_Type            0\n",
      "Outlet_Type                     0\n",
      "Item_Outlet_Sales               0\n",
      "train_test                      0\n",
      "dtype: int64\n",
      "\n",
      "Test NaN Values:\n",
      "Item_Identifier                 0\n",
      "Item_Weight                   976\n",
      "Item_Fat_Content                0\n",
      "Item_Visibility                 0\n",
      "Item_Type                       0\n",
      "Item_MRP                        0\n",
      "Outlet_Identifier               0\n",
      "Outlet_Establishment_Year       0\n",
      "Outlet_Size                  1606\n",
      "Outlet_Location_Type            0\n",
      "Outlet_Type                     0\n",
      "Item_Outlet_Sales            5681\n",
      "train_test                      0\n",
      "dtype: int64\n"
     ]
    }
   ],
   "source": [
    "print(\"Train NaN Values:\")\n",
    "print(df_train.isnull().sum())\n",
    "print()\n",
    "print(\"Test NaN Values:\")\n",
    "print(df_test.isnull().sum())"
   ]
  },
  {
   "cell_type": "markdown",
   "metadata": {},
   "source": [
    "### 1.2 fill Item_Weight missing values"
   ]
  },
  {
   "cell_type": "code",
   "execution_count": 349,
   "metadata": {},
   "outputs": [
    {
     "data": {
      "text/plain": [
       "<matplotlib.axes._subplots.AxesSubplot at 0x1a1a6272b0>"
      ]
     },
     "execution_count": 349,
     "metadata": {},
     "output_type": "execute_result"
    },
    {
     "data": {
      "image/png": "[encoded data removed]",
      "text/plain": [
       "<Figure size 720x216 with 1 Axes>"
      ]
     },
     "metadata": {
      "needs_background": "light"
     },
     "output_type": "display_data"
    }
   ],
   "source": [
    "plt.figure(figsize=(10,3))\n",
    "sns.boxplot(x='Outlet_Identifier',\n",
    "            y='Item_Weight',data=df_all)"
   ]
  },
  {
   "cell_type": "code",
   "execution_count": 350,
   "metadata": {},
   "outputs": [
    {
     "data": {
      "text/html": [
       "<div>\n",
       "<style scoped>\n",
       "    .dataframe tbody tr th:only-of-type {\n",
       "        vertical-align: middle;\n",
       "    }\n",
       "\n",
       "    .dataframe tbody tr th {\n",
       "        vertical-align: top;\n",
       "    }\n",
       "\n",
       "    .dataframe thead th {\n",
       "        text-align: right;\n",
       "    }\n",
       "</style>\n",
       "<table border=\"1\" class=\"dataframe\">\n",
       "  <thead>\n",
       "    <tr style=\"text-align: right;\">\n",
       "      <th></th>\n",
       "      <th>Item_Weight</th>\n",
       "    </tr>\n",
       "    <tr>\n",
       "      <th>Item_Identifier</th>\n",
       "      <th></th>\n",
       "    </tr>\n",
       "  </thead>\n",
       "  <tbody>\n",
       "    <tr>\n",
       "      <th>DRA12</th>\n",
       "      <td>11.60</td>\n",
       "    </tr>\n",
       "    <tr>\n",
       "      <th>DRA24</th>\n",
       "      <td>19.35</td>\n",
       "    </tr>\n",
       "  </tbody>\n",
       "</table>\n",
       "</div>"
      ],
      "text/plain": [
       "                 Item_Weight\n",
       "Item_Identifier             \n",
       "DRA12                  11.60\n",
       "DRA24                  19.35"
      ]
     },
     "metadata": {},
     "output_type": "display_data"
    }
   ],
   "source": [
    "#df_all.groupby('Item_Identifier')['Item_Weight'].agg(['mean'])\n",
    "item_avg_weight = df_all.pivot_table(values='Item_Weight', \n",
    "                                     index='Item_Identifier',\n",
    "                                     aggfunc='mean')\n",
    "display(item_avg_weight.head(2))\n",
    "item_avg_weight = item_avg_weight.to_dict()['Item_Weight']"
   ]
  },
  {
   "cell_type": "code",
   "execution_count": 351,
   "metadata": {},
   "outputs": [
    {
     "name": "stdout",
     "output_type": "stream",
     "text": [
      "Final #missing: 0\n"
     ]
    }
   ],
   "source": [
    "miss_loc = df_all['Item_Weight'].isnull() \n",
    "df_all.loc[miss_loc,'Item_Weight'] = df_all.loc[miss_loc,'Item_Identifier'].map(item_avg_weight)\n",
    "\n",
    "print ('Final #missing: %d'% sum(df_all['Item_Weight'].isnull()))"
   ]
  },
  {
   "cell_type": "markdown",
   "metadata": {},
   "source": [
    "### 1.3 fill Outlet_Size missing values"
   ]
  },
  {
   "cell_type": "code",
   "execution_count": 352,
   "metadata": {},
   "outputs": [
    {
     "data": {
      "text/plain": [
       "array(['OUT010', 'OUT045', 'OUT017'], dtype=object)"
      ]
     },
     "execution_count": 352,
     "metadata": {},
     "output_type": "execute_result"
    }
   ],
   "source": [
    "# These 3 outlets provide no item count\n",
    "miss_loc = df_all['Outlet_Size'].isnull() \n",
    "df_all.loc[miss_loc,'Outlet_Identifier'].unique()"
   ]
  },
  {
   "cell_type": "code",
   "execution_count": 353,
   "metadata": {},
   "outputs": [
    {
     "data": {
      "text/html": [
       "<div>\n",
       "<style scoped>\n",
       "    .dataframe tbody tr th:only-of-type {\n",
       "        vertical-align: middle;\n",
       "    }\n",
       "\n",
       "    .dataframe tbody tr th {\n",
       "        vertical-align: top;\n",
       "    }\n",
       "\n",
       "    .dataframe thead th {\n",
       "        text-align: right;\n",
       "    }\n",
       "</style>\n",
       "<table border=\"1\" class=\"dataframe\">\n",
       "  <thead>\n",
       "    <tr style=\"text-align: right;\">\n",
       "      <th></th>\n",
       "      <th>Outlet_Identifier</th>\n",
       "      <th>Outlet_Type</th>\n",
       "      <th>Outlet_Location_Type</th>\n",
       "      <th>Outlet_Item_Count</th>\n",
       "    </tr>\n",
       "  </thead>\n",
       "  <tbody>\n",
       "    <tr>\n",
       "      <th>0</th>\n",
       "      <td>OUT010</td>\n",
       "      <td>Grocery Store</td>\n",
       "      <td>Tier 3</td>\n",
       "      <td>925</td>\n",
       "    </tr>\n",
       "    <tr>\n",
       "      <th>1</th>\n",
       "      <td>OUT013</td>\n",
       "      <td>Supermarket Type1</td>\n",
       "      <td>Tier 3</td>\n",
       "      <td>1553</td>\n",
       "    </tr>\n",
       "    <tr>\n",
       "      <th>2</th>\n",
       "      <td>OUT017</td>\n",
       "      <td>Supermarket Type1</td>\n",
       "      <td>Tier 2</td>\n",
       "      <td>1543</td>\n",
       "    </tr>\n",
       "    <tr>\n",
       "      <th>3</th>\n",
       "      <td>OUT018</td>\n",
       "      <td>Supermarket Type2</td>\n",
       "      <td>Tier 3</td>\n",
       "      <td>1546</td>\n",
       "    </tr>\n",
       "    <tr>\n",
       "      <th>4</th>\n",
       "      <td>OUT019</td>\n",
       "      <td>Grocery Store</td>\n",
       "      <td>Tier 1</td>\n",
       "      <td>880</td>\n",
       "    </tr>\n",
       "    <tr>\n",
       "      <th>5</th>\n",
       "      <td>OUT027</td>\n",
       "      <td>Supermarket Type3</td>\n",
       "      <td>Tier 3</td>\n",
       "      <td>1559</td>\n",
       "    </tr>\n",
       "    <tr>\n",
       "      <th>6</th>\n",
       "      <td>OUT035</td>\n",
       "      <td>Supermarket Type1</td>\n",
       "      <td>Tier 2</td>\n",
       "      <td>1550</td>\n",
       "    </tr>\n",
       "    <tr>\n",
       "      <th>7</th>\n",
       "      <td>OUT045</td>\n",
       "      <td>Supermarket Type1</td>\n",
       "      <td>Tier 2</td>\n",
       "      <td>1548</td>\n",
       "    </tr>\n",
       "    <tr>\n",
       "      <th>8</th>\n",
       "      <td>OUT046</td>\n",
       "      <td>Supermarket Type1</td>\n",
       "      <td>Tier 1</td>\n",
       "      <td>1550</td>\n",
       "    </tr>\n",
       "    <tr>\n",
       "      <th>9</th>\n",
       "      <td>OUT049</td>\n",
       "      <td>Supermarket Type1</td>\n",
       "      <td>Tier 1</td>\n",
       "      <td>1550</td>\n",
       "    </tr>\n",
       "  </tbody>\n",
       "</table>\n",
       "</div>"
      ],
      "text/plain": [
       "  Outlet_Identifier        Outlet_Type Outlet_Location_Type  Outlet_Item_Count\n",
       "0            OUT010      Grocery Store               Tier 3                925\n",
       "1            OUT013  Supermarket Type1               Tier 3               1553\n",
       "2            OUT017  Supermarket Type1               Tier 2               1543\n",
       "3            OUT018  Supermarket Type2               Tier 3               1546\n",
       "4            OUT019      Grocery Store               Tier 1                880\n",
       "5            OUT027  Supermarket Type3               Tier 3               1559\n",
       "6            OUT035  Supermarket Type1               Tier 2               1550\n",
       "7            OUT045  Supermarket Type1               Tier 2               1548\n",
       "8            OUT046  Supermarket Type1               Tier 1               1550\n",
       "9            OUT049  Supermarket Type1               Tier 1               1550"
      ]
     },
     "execution_count": 353,
     "metadata": {},
     "output_type": "execute_result"
    }
   ],
   "source": [
    "df_all.groupby(['Outlet_Identifier','Outlet_Type','Outlet_Location_Type'])['Item_Identifier'].count()\\\n",
    "      .reset_index().rename(columns={'Item_Identifier':'Outlet_Item_Count'})\n",
    "\n",
    "#OUT10 - grocery - small\n",
    "#OUT045 - type1 - small\n",
    "#OUT017 - type1 - small\n"
   ]
  },
  {
   "cell_type": "code",
   "execution_count": 354,
   "metadata": {},
   "outputs": [
    {
     "data": {
      "text/plain": [
       "{'Grocery Store': 'Small',\n",
       " 'Supermarket Type1': 'Small',\n",
       " 'Supermarket Type2': 'Medium',\n",
       " 'Supermarket Type3': 'Medium'}"
      ]
     },
     "execution_count": 354,
     "metadata": {},
     "output_type": "execute_result"
    }
   ],
   "source": [
    "from scipy.stats import mode\n",
    "outlet_size_mode = df_all.pivot_table(values='Outlet_Size', \n",
    "                                      columns='Outlet_Type',\n",
    "                                      aggfunc=(lambda x:mode(x).mode[0]) ).transpose().to_dict()['Outlet_Size']\n",
    "outlet_size_mode"
   ]
  },
  {
   "cell_type": "code",
   "execution_count": 355,
   "metadata": {},
   "outputs": [
    {
     "name": "stdout",
     "output_type": "stream",
     "text": [
      "0\n"
     ]
    }
   ],
   "source": [
    "miss_loc = df_all['Outlet_Size'].isnull() \n",
    "df_all.loc[miss_loc,'Outlet_Size'] = df_all.loc[miss_loc,'Outlet_Type'].map(outlet_size_mode)\n",
    "\n",
    "print(sum(df_all['Outlet_Size'].isnull()))"
   ]
  },
  {
   "cell_type": "markdown",
   "metadata": {},
   "source": [
    "### 1.4 Turn Item_Visibility of 0 to mean\n",
    "Item_Visibility = 0 makes no sense"
   ]
  },
  {
   "cell_type": "code",
   "execution_count": 356,
   "metadata": {},
   "outputs": [],
   "source": [
    "# Item Type Avg Visibility\n",
    "visibility_avg = df_all.pivot_table(values='Item_Visibility', \n",
    "                   index='Item_Identifier',\n",
    "                   aggfunc='mean').to_dict()['Item_Visibility']\n",
    "miss_loc = (df_all['Item_Visibility'] == 0)\n",
    "df_all.loc[miss_loc,'Item_Visibility'] = df_all.loc[miss_loc,'Item_Identifier'].map(visibility_avg)\n"
   ]
  },
  {
   "cell_type": "code",
   "execution_count": 357,
   "metadata": {},
   "outputs": [
    {
     "name": "stdout",
     "output_type": "stream",
     "text": [
      "Outlet_Identifier\n",
      "OUT010    97.262021\n",
      "OUT013    99.581388\n",
      "OUT017    99.652015\n",
      "OUT018    99.364324\n",
      "OUT019    97.248069\n",
      "OUT027    99.432339\n",
      "OUT035    99.565685\n",
      "OUT045    99.489174\n",
      "OUT046    99.355668\n",
      "OUT049    99.204899\n",
      "Name: Item_Visibility, dtype: float64\n",
      "\n",
      "Outlet_Identifier\n",
      "OUT010    100.0\n",
      "OUT013    100.0\n",
      "OUT017    100.0\n",
      "OUT018    100.0\n",
      "OUT019    100.0\n",
      "OUT027    100.0\n",
      "OUT035    100.0\n",
      "OUT045    100.0\n",
      "OUT046    100.0\n",
      "OUT049    100.0\n",
      "Name: Item_Visibility, dtype: float64\n"
     ]
    }
   ],
   "source": [
    "Out_Vis_Sum = df_all.groupby('Outlet_Identifier')['Item_Visibility'].sum()\n",
    "print(Out_Vis_Sum)\n",
    "\n",
    "def softmax(x):\n",
    "    \"\"\"Compute softmax values for each sets of scores in x.\"\"\"\n",
    "    e_x = np.exp(x - np.max(x))\n",
    "    return 100*(e_x / e_x.sum())\n",
    "\n",
    "for out in Out_Vis_Sum.index:\n",
    "    outlet_bool = (df_all['Outlet_Identifier'] == out)\n",
    "    df_all.loc[outlet_bool,'Item_Visibility'] = softmax(df_all.loc[outlet_bool,'Item_Visibility'])\n",
    "\n",
    "Out_Vis_Sum = df_all.groupby('Outlet_Identifier')['Item_Visibility'].sum()\n",
    "print()\n",
    "print(Out_Vis_Sum)\n"
   ]
  },
  {
   "cell_type": "code",
   "execution_count": 358,
   "metadata": {},
   "outputs": [
    {
     "data": {
      "text/plain": [
       "count    14204.000000\n",
       "mean         1.854257\n",
       "std          1.851074\n",
       "min          0.341993\n",
       "25%          0.760965\n",
       "50%          1.261520\n",
       "75%          2.200672\n",
       "max         26.214556\n",
       "Name: Item_Visibility_MeanRatio, dtype: float64"
      ]
     },
     "execution_count": 358,
     "metadata": {},
     "output_type": "execute_result"
    }
   ],
   "source": [
    "#Determine another variable with means ratio\n",
    "df_all['Item_Visibility_MeanRatio'] = df_all.apply(lambda x: x['Item_Visibility']/visibility_avg[x['Item_Identifier']], axis=1)\n",
    "df_all['Item_Visibility_MeanRatio'].describe()\n"
   ]
  },
  {
   "cell_type": "markdown",
   "metadata": {},
   "source": [
    "### 1.5 Compute outlet operation year"
   ]
  },
  {
   "cell_type": "code",
   "execution_count": 359,
   "metadata": {},
   "outputs": [],
   "source": [
    "df_all['Outlet_Years'] = 2013 - df_all['Outlet_Establishment_Year']"
   ]
  },
  {
   "cell_type": "code",
   "execution_count": 360,
   "metadata": {},
   "outputs": [
    {
     "data": {
      "text/html": [
       "<div>\n",
       "<style scoped>\n",
       "    .dataframe tbody tr th:only-of-type {\n",
       "        vertical-align: middle;\n",
       "    }\n",
       "\n",
       "    .dataframe tbody tr th {\n",
       "        vertical-align: top;\n",
       "    }\n",
       "\n",
       "    .dataframe thead th {\n",
       "        text-align: right;\n",
       "    }\n",
       "</style>\n",
       "<table border=\"1\" class=\"dataframe\">\n",
       "  <thead>\n",
       "    <tr style=\"text-align: right;\">\n",
       "      <th></th>\n",
       "      <th>Item_Identifier</th>\n",
       "      <th>Item_Weight</th>\n",
       "      <th>Item_Fat_Content</th>\n",
       "      <th>Item_Visibility</th>\n",
       "      <th>Item_Type</th>\n",
       "      <th>Item_MRP</th>\n",
       "      <th>Outlet_Identifier</th>\n",
       "      <th>Outlet_Establishment_Year</th>\n",
       "      <th>Outlet_Size</th>\n",
       "      <th>Outlet_Location_Type</th>\n",
       "      <th>Outlet_Type</th>\n",
       "      <th>Item_Outlet_Sales</th>\n",
       "      <th>train_test</th>\n",
       "      <th>Item_Visibility_MeanRatio</th>\n",
       "      <th>Outlet_Years</th>\n",
       "    </tr>\n",
       "  </thead>\n",
       "  <tbody>\n",
       "    <tr>\n",
       "      <th>0</th>\n",
       "      <td>FDA15</td>\n",
       "      <td>9.30</td>\n",
       "      <td>Low Fat</td>\n",
       "      <td>0.061439</td>\n",
       "      <td>Dairy</td>\n",
       "      <td>249.8092</td>\n",
       "      <td>OUT049</td>\n",
       "      <td>1999</td>\n",
       "      <td>Medium</td>\n",
       "      <td>Tier 1</td>\n",
       "      <td>Supermarket Type1</td>\n",
       "      <td>3735.1380</td>\n",
       "      <td>train</td>\n",
       "      <td>3.564763</td>\n",
       "      <td>14</td>\n",
       "    </tr>\n",
       "    <tr>\n",
       "      <th>1</th>\n",
       "      <td>DRC01</td>\n",
       "      <td>5.92</td>\n",
       "      <td>Regular</td>\n",
       "      <td>0.061780</td>\n",
       "      <td>Soft Drinks</td>\n",
       "      <td>48.2692</td>\n",
       "      <td>OUT018</td>\n",
       "      <td>2009</td>\n",
       "      <td>Medium</td>\n",
       "      <td>Tier 3</td>\n",
       "      <td>Supermarket Type2</td>\n",
       "      <td>443.4228</td>\n",
       "      <td>train</td>\n",
       "      <td>2.991282</td>\n",
       "      <td>4</td>\n",
       "    </tr>\n",
       "  </tbody>\n",
       "</table>\n",
       "</div>"
      ],
      "text/plain": [
       "  Item_Identifier  Item_Weight Item_Fat_Content  Item_Visibility    Item_Type  Item_MRP Outlet_Identifier  Outlet_Establishment_Year Outlet_Size Outlet_Location_Type        Outlet_Type  Item_Outlet_Sales train_test  Item_Visibility_MeanRatio  Outlet_Years\n",
       "0           FDA15         9.30          Low Fat         0.061439        Dairy  249.8092            OUT049                       1999      Medium               Tier 1  Supermarket Type1          3735.1380      train                   3.564763            14\n",
       "1           DRC01         5.92          Regular         0.061780  Soft Drinks   48.2692            OUT018                       2009      Medium               Tier 3  Supermarket Type2           443.4228      train                   2.991282             4"
      ]
     },
     "execution_count": 360,
     "metadata": {},
     "output_type": "execute_result"
    }
   ],
   "source": [
    "df_all.head(2)"
   ]
  },
  {
   "cell_type": "code",
   "execution_count": 361,
   "metadata": {},
   "outputs": [
    {
     "data": {
      "text/plain": [
       "28    2439\n",
       "26    1553\n",
       "14    1550\n",
       "9     1550\n",
       "16    1550\n",
       "11    1548\n",
       "4     1546\n",
       "6     1543\n",
       "15     925\n",
       "Name: Outlet_Years, dtype: int64"
      ]
     },
     "execution_count": 361,
     "metadata": {},
     "output_type": "execute_result"
    }
   ],
   "source": [
    "df_all['Outlet_Years'].value_counts()"
   ]
  },
  {
   "cell_type": "markdown",
   "metadata": {},
   "source": [
    "### 1.6 parse Item_Identifier \n",
    "FDA15 - FD"
   ]
  },
  {
   "cell_type": "code",
   "execution_count": 362,
   "metadata": {},
   "outputs": [
    {
     "name": "stdout",
     "output_type": "stream",
     "text": [
      "['FDA15' 'DRC01' 'FDN15' ... 'NCF55' 'NCW30' 'NCW05']\n"
     ]
    }
   ],
   "source": [
    "print(df_all['Item_Identifier'].unique())"
   ]
  },
  {
   "cell_type": "code",
   "execution_count": 363,
   "metadata": {
    "scrolled": true
   },
   "outputs": [
    {
     "name": "stdout",
     "output_type": "stream",
     "text": [
      "1559\n"
     ]
    },
    {
     "data": {
      "text/plain": [
       "Food              10201\n",
       "Non-Consumable     2686\n",
       "Drinks             1317\n",
       "Name: Item_Type2, dtype: int64"
      ]
     },
     "execution_count": 363,
     "metadata": {},
     "output_type": "execute_result"
    }
   ],
   "source": [
    "print(df_all['Item_Identifier'].nunique())\n",
    "\n",
    "df_all['Item_Type2'] = df_all['Item_Identifier'].apply(lambda x: x[:2])\\\n",
    "                                                .map({'FD':'Food','NC':'Non-Consumable','DR':'Drinks'})\n",
    "                                     \n",
    "df_all['Item_Type2'].value_counts()"
   ]
  },
  {
   "cell_type": "code",
   "execution_count": 364,
   "metadata": {
    "scrolled": true
   },
   "outputs": [
    {
     "name": "stdout",
     "output_type": "stream",
     "text": [
      "1559\n",
      "Unique Item_Type3:  71\n"
     ]
    }
   ],
   "source": [
    "print(df_all['Item_Identifier'].nunique())\n",
    "\n",
    "df_all['Item_Type3'] = df_all['Item_Identifier'].apply(lambda x: x[:3])\n",
    "print('Unique Item_Type3: ', df_all['Item_Type3'].nunique())"
   ]
  },
  {
   "cell_type": "markdown",
   "metadata": {},
   "source": [
    "### 1.7 clean Item_Fat_Content \n",
    "compute fat level for each item"
   ]
  },
  {
   "cell_type": "code",
   "execution_count": 365,
   "metadata": {},
   "outputs": [
    {
     "data": {
      "text/plain": [
       "array(['Food', 'Drinks', 'Non-Consumable'], dtype=object)"
      ]
     },
     "execution_count": 365,
     "metadata": {},
     "output_type": "execute_result"
    }
   ],
   "source": [
    "df_all['Item_Type2'].unique()"
   ]
  },
  {
   "cell_type": "code",
   "execution_count": 366,
   "metadata": {},
   "outputs": [
    {
     "name": "stdout",
     "output_type": "stream",
     "text": [
      "['Low Fat' 'Regular' 'low fat' 'LF' 'reg']\n",
      "Low Fat    9185\n",
      "Regular    5019\n",
      "Name: Item_Fat_Content, dtype: int64\n"
     ]
    }
   ],
   "source": [
    "print(df_all['Item_Fat_Content'].unique())\n",
    "\n",
    "df_all['Item_Fat_Content'] = df_all['Item_Fat_Content'].map({'LF':'Low Fat','reg':'Regular','low fat':'Low Fat','Regular':'Regular','Low Fat':'Low Fat'})\n",
    "print(df_all['Item_Fat_Content'].value_counts())\n"
   ]
  },
  {
   "cell_type": "code",
   "execution_count": 367,
   "metadata": {},
   "outputs": [
    {
     "name": "stdout",
     "output_type": "stream",
     "text": [
      "Low Fat       6499\n",
      "Regular       5019\n",
      "Non-Edible    2686\n",
      "Name: Item_Fat_Content, dtype: int64\n"
     ]
    }
   ],
   "source": [
    "df_all.loc[df_all['Item_Type2']==\"Non-Consumable\", 'Item_Fat_Content']=\"Non-Edible\"\n",
    "df_all.loc[df_all['Item_Type']==\"Household\", 'Item_Fat_Content']=\"Non-Edible\"\n",
    "df_all.loc[df_all['Item_Type']==\"Health and Hygiene\", 'Item_Fat_Content']=\"Non-Edible\"\n",
    "df_all.loc[df_all['Item_Type']==\"Others\", 'Item_Fat_Content']=\"Non-Edible\"\n",
    "print(df_all['Item_Fat_Content'].value_counts())"
   ]
  },
  {
   "cell_type": "code",
   "execution_count": 368,
   "metadata": {},
   "outputs": [
    {
     "data": {
      "text/plain": [
       "0"
      ]
     },
     "execution_count": 368,
     "metadata": {},
     "output_type": "execute_result"
    }
   ],
   "source": [
    "sum(df_all['Item_Fat_Content'].isnull())"
   ]
  },
  {
   "cell_type": "code",
   "execution_count": 369,
   "metadata": {},
   "outputs": [
    {
     "data": {
      "text/html": [
       "<div>\n",
       "<style scoped>\n",
       "    .dataframe tbody tr th:only-of-type {\n",
       "        vertical-align: middle;\n",
       "    }\n",
       "\n",
       "    .dataframe tbody tr th {\n",
       "        vertical-align: top;\n",
       "    }\n",
       "\n",
       "    .dataframe thead th {\n",
       "        text-align: right;\n",
       "    }\n",
       "</style>\n",
       "<table border=\"1\" class=\"dataframe\">\n",
       "  <thead>\n",
       "    <tr style=\"text-align: right;\">\n",
       "      <th></th>\n",
       "      <th>Item_Type</th>\n",
       "      <th>Item_Fat_Content</th>\n",
       "      <th>Item_Fat_Level</th>\n",
       "    </tr>\n",
       "  </thead>\n",
       "  <tbody>\n",
       "    <tr>\n",
       "      <th>0</th>\n",
       "      <td>Baking Goods</td>\n",
       "      <td>Low Fat</td>\n",
       "      <td>542</td>\n",
       "    </tr>\n",
       "    <tr>\n",
       "      <th>1</th>\n",
       "      <td>Baking Goods</td>\n",
       "      <td>Regular</td>\n",
       "      <td>544</td>\n",
       "    </tr>\n",
       "    <tr>\n",
       "      <th>2</th>\n",
       "      <td>Breads</td>\n",
       "      <td>Low Fat</td>\n",
       "      <td>222</td>\n",
       "    </tr>\n",
       "    <tr>\n",
       "      <th>3</th>\n",
       "      <td>Breads</td>\n",
       "      <td>Regular</td>\n",
       "      <td>194</td>\n",
       "    </tr>\n",
       "    <tr>\n",
       "      <th>4</th>\n",
       "      <td>Breakfast</td>\n",
       "      <td>Low Fat</td>\n",
       "      <td>66</td>\n",
       "    </tr>\n",
       "  </tbody>\n",
       "</table>\n",
       "</div>"
      ],
      "text/plain": [
       "      Item_Type Item_Fat_Content  Item_Fat_Level\n",
       "0  Baking Goods          Low Fat             542\n",
       "1  Baking Goods          Regular             544\n",
       "2        Breads          Low Fat             222\n",
       "3        Breads          Regular             194\n",
       "4     Breakfast          Low Fat              66"
      ]
     },
     "execution_count": 369,
     "metadata": {},
     "output_type": "execute_result"
    }
   ],
   "source": [
    "fat_level = df_all.groupby(['Item_Type','Item_Fat_Content'])['Item_Fat_Content']\\\n",
    "                  .agg(['count']).reset_index()\\\n",
    "                  .rename(columns={'count':'Item_Fat_Level'})\n",
    "fat_level.head()"
   ]
  },
  {
   "cell_type": "code",
   "execution_count": 370,
   "metadata": {},
   "outputs": [
    {
     "data": {
      "text/html": [
       "<div>\n",
       "<style scoped>\n",
       "    .dataframe tbody tr th:only-of-type {\n",
       "        vertical-align: middle;\n",
       "    }\n",
       "\n",
       "    .dataframe tbody tr th {\n",
       "        vertical-align: top;\n",
       "    }\n",
       "\n",
       "    .dataframe thead th {\n",
       "        text-align: right;\n",
       "    }\n",
       "</style>\n",
       "<table border=\"1\" class=\"dataframe\">\n",
       "  <thead>\n",
       "    <tr style=\"text-align: right;\">\n",
       "      <th></th>\n",
       "      <th>Item_Identifier</th>\n",
       "      <th>Item_Weight</th>\n",
       "      <th>Item_Fat_Content</th>\n",
       "      <th>Item_Visibility</th>\n",
       "      <th>Item_Type</th>\n",
       "      <th>Item_MRP</th>\n",
       "      <th>Outlet_Identifier</th>\n",
       "      <th>Outlet_Establishment_Year</th>\n",
       "      <th>Outlet_Size</th>\n",
       "      <th>Outlet_Location_Type</th>\n",
       "      <th>Outlet_Type</th>\n",
       "      <th>Item_Outlet_Sales</th>\n",
       "      <th>train_test</th>\n",
       "      <th>Item_Visibility_MeanRatio</th>\n",
       "      <th>Outlet_Years</th>\n",
       "      <th>Item_Type2</th>\n",
       "      <th>Item_Type3</th>\n",
       "      <th>Item_Fat_Level</th>\n",
       "    </tr>\n",
       "  </thead>\n",
       "  <tbody>\n",
       "    <tr>\n",
       "      <th>0</th>\n",
       "      <td>FDA15</td>\n",
       "      <td>9.30</td>\n",
       "      <td>Low Fat</td>\n",
       "      <td>0.061439</td>\n",
       "      <td>Dairy</td>\n",
       "      <td>249.8092</td>\n",
       "      <td>OUT049</td>\n",
       "      <td>1999</td>\n",
       "      <td>Medium</td>\n",
       "      <td>Tier 1</td>\n",
       "      <td>Supermarket Type1</td>\n",
       "      <td>3735.1380</td>\n",
       "      <td>train</td>\n",
       "      <td>3.564763</td>\n",
       "      <td>14</td>\n",
       "      <td>Food</td>\n",
       "      <td>FDA</td>\n",
       "      <td>691</td>\n",
       "    </tr>\n",
       "    <tr>\n",
       "      <th>1</th>\n",
       "      <td>DRC01</td>\n",
       "      <td>5.92</td>\n",
       "      <td>Regular</td>\n",
       "      <td>0.061780</td>\n",
       "      <td>Soft Drinks</td>\n",
       "      <td>48.2692</td>\n",
       "      <td>OUT018</td>\n",
       "      <td>2009</td>\n",
       "      <td>Medium</td>\n",
       "      <td>Tier 3</td>\n",
       "      <td>Supermarket Type2</td>\n",
       "      <td>443.4228</td>\n",
       "      <td>train</td>\n",
       "      <td>2.991282</td>\n",
       "      <td>4</td>\n",
       "      <td>Drinks</td>\n",
       "      <td>DRC</td>\n",
       "      <td>109</td>\n",
       "    </tr>\n",
       "  </tbody>\n",
       "</table>\n",
       "</div>"
      ],
      "text/plain": [
       "  Item_Identifier  Item_Weight Item_Fat_Content  Item_Visibility    Item_Type  Item_MRP Outlet_Identifier  Outlet_Establishment_Year Outlet_Size Outlet_Location_Type        Outlet_Type  Item_Outlet_Sales train_test  Item_Visibility_MeanRatio  Outlet_Years Item_Type2 Item_Type3  Item_Fat_Level\n",
       "0           FDA15         9.30          Low Fat         0.061439        Dairy  249.8092            OUT049                       1999      Medium               Tier 1  Supermarket Type1          3735.1380      train                   3.564763            14       Food        FDA             691\n",
       "1           DRC01         5.92          Regular         0.061780  Soft Drinks   48.2692            OUT018                       2009      Medium               Tier 3  Supermarket Type2           443.4228      train                   2.991282             4     Drinks        DRC             109"
      ]
     },
     "execution_count": 370,
     "metadata": {},
     "output_type": "execute_result"
    }
   ],
   "source": [
    "df_all = df_all.merge(fat_level, how = 'left', on = ['Item_Type','Item_Fat_Content'])\n",
    "df_all.head(2)"
   ]
  },
  {
   "cell_type": "markdown",
   "metadata": {},
   "source": [
    "### 1.8 Outlet Type is Supermarket or Grocery "
   ]
  },
  {
   "cell_type": "code",
   "execution_count": 371,
   "metadata": {},
   "outputs": [
    {
     "data": {
      "text/plain": [
       "array(['Supermarket Type1', 'Supermarket Type2', 'Grocery Store',\n",
       "       'Supermarket Type3'], dtype=object)"
      ]
     },
     "execution_count": 371,
     "metadata": {},
     "output_type": "execute_result"
    }
   ],
   "source": [
    "df_all['Outlet_Type'].unique()"
   ]
  },
  {
   "cell_type": "code",
   "execution_count": 372,
   "metadata": {},
   "outputs": [],
   "source": [
    "def isSupermarket(Outlet_Type):\n",
    "    if Outlet_Type.startswith('Supermarket'):\n",
    "        return 1\n",
    "    else:\n",
    "        return 0\n",
    "df_all['isSupermarket'] = df_all['Outlet_Type'].map(isSupermarket)"
   ]
  },
  {
   "cell_type": "markdown",
   "metadata": {},
   "source": [
    "### 1.9 Item_MRP Level feature"
   ]
  },
  {
   "cell_type": "code",
   "execution_count": 373,
   "metadata": {},
   "outputs": [
    {
     "data": {
      "text/plain": [
       "<matplotlib.axes._subplots.AxesSubplot at 0x1a1a221320>"
      ]
     },
     "execution_count": 373,
     "metadata": {},
     "output_type": "execute_result"
    },
    {
     "data": {
      "image/png": "[encoded data removed]",
      "text/plain": [
       "<Figure size 432x288 with 1 Axes>"
      ]
     },
     "metadata": {
      "needs_background": "light"
     },
     "output_type": "display_data"
    }
   ],
   "source": [
    "df_all['Item_MRP'].hist()"
   ]
  },
  {
   "cell_type": "code",
   "execution_count": 374,
   "metadata": {},
   "outputs": [],
   "source": [
    "def mrp_level(mrp):\n",
    "    if mrp < 70:\n",
    "        return 'Low'\n",
    "    elif mrp < 140:\n",
    "        return 'Medium'\n",
    "    elif mrp < 210:\n",
    "        return 'High'\n",
    "    else:\n",
    "        return 'Very_High'\n",
    "df_all['Item_MRP_Level'] = df_all['Item_MRP'].map(mrp_level)"
   ]
  },
  {
   "cell_type": "code",
   "execution_count": 375,
   "metadata": {},
   "outputs": [
    {
     "data": {
      "text/plain": [
       "High         5002\n",
       "Medium       4707\n",
       "Very_High    2287\n",
       "Low          2208\n",
       "Name: Item_MRP_Level, dtype: int64"
      ]
     },
     "execution_count": 375,
     "metadata": {},
     "output_type": "execute_result"
    }
   ],
   "source": [
    "df_all['Item_MRP_Level'].value_counts()"
   ]
  },
  {
   "cell_type": "code",
   "execution_count": null,
   "metadata": {},
   "outputs": [],
   "source": []
  },
  {
   "cell_type": "code",
   "execution_count": null,
   "metadata": {},
   "outputs": [],
   "source": []
  },
  {
   "cell_type": "markdown",
   "metadata": {},
   "source": [
    "### 1.9 Compute Aggregation Features\n",
    "by Outlet_Identifier, Item_MRP mean and set"
   ]
  },
  {
   "cell_type": "code",
   "execution_count": 376,
   "metadata": {},
   "outputs": [
    {
     "name": "stdout",
     "output_type": "stream",
     "text": [
      "(10, 3)\n"
     ]
    },
    {
     "data": {
      "text/html": [
       "<div>\n",
       "<style scoped>\n",
       "    .dataframe tbody tr th:only-of-type {\n",
       "        vertical-align: middle;\n",
       "    }\n",
       "\n",
       "    .dataframe tbody tr th {\n",
       "        vertical-align: top;\n",
       "    }\n",
       "\n",
       "    .dataframe thead th {\n",
       "        text-align: right;\n",
       "    }\n",
       "</style>\n",
       "<table border=\"1\" class=\"dataframe\">\n",
       "  <thead>\n",
       "    <tr style=\"text-align: right;\">\n",
       "      <th></th>\n",
       "      <th>Outlet_Identifier</th>\n",
       "      <th>By_Outlet_Identifier_MRP_Mean</th>\n",
       "      <th>By_Outlet_Identifier_MRP_Std</th>\n",
       "    </tr>\n",
       "  </thead>\n",
       "  <tbody>\n",
       "    <tr>\n",
       "      <th>0</th>\n",
       "      <td>OUT010</td>\n",
       "      <td>141.159742</td>\n",
       "      <td>62.010835</td>\n",
       "    </tr>\n",
       "    <tr>\n",
       "      <th>1</th>\n",
       "      <td>OUT013</td>\n",
       "      <td>141.128428</td>\n",
       "      <td>62.140848</td>\n",
       "    </tr>\n",
       "  </tbody>\n",
       "</table>\n",
       "</div>"
      ],
      "text/plain": [
       "  Outlet_Identifier  By_Outlet_Identifier_MRP_Mean  By_Outlet_Identifier_MRP_Std\n",
       "0            OUT010                     141.159742                     62.010835\n",
       "1            OUT013                     141.128428                     62.140848"
      ]
     },
     "metadata": {},
     "output_type": "display_data"
    },
    {
     "data": {
      "text/html": [
       "<div>\n",
       "<style scoped>\n",
       "    .dataframe tbody tr th:only-of-type {\n",
       "        vertical-align: middle;\n",
       "    }\n",
       "\n",
       "    .dataframe tbody tr th {\n",
       "        vertical-align: top;\n",
       "    }\n",
       "\n",
       "    .dataframe thead th {\n",
       "        text-align: right;\n",
       "    }\n",
       "</style>\n",
       "<table border=\"1\" class=\"dataframe\">\n",
       "  <thead>\n",
       "    <tr style=\"text-align: right;\">\n",
       "      <th></th>\n",
       "      <th>Item_Identifier</th>\n",
       "      <th>Item_Weight</th>\n",
       "      <th>Item_Fat_Content</th>\n",
       "      <th>Item_Visibility</th>\n",
       "      <th>Item_Type</th>\n",
       "      <th>Item_MRP</th>\n",
       "      <th>Outlet_Identifier</th>\n",
       "      <th>Outlet_Establishment_Year</th>\n",
       "      <th>Outlet_Size</th>\n",
       "      <th>Outlet_Location_Type</th>\n",
       "      <th>Outlet_Type</th>\n",
       "      <th>Item_Outlet_Sales</th>\n",
       "      <th>train_test</th>\n",
       "      <th>Item_Visibility_MeanRatio</th>\n",
       "      <th>Outlet_Years</th>\n",
       "      <th>Item_Type2</th>\n",
       "      <th>Item_Type3</th>\n",
       "      <th>Item_Fat_Level</th>\n",
       "      <th>isSupermarket</th>\n",
       "      <th>Item_MRP_Level</th>\n",
       "      <th>By_Outlet_Identifier_MRP_Mean</th>\n",
       "      <th>By_Outlet_Identifier_MRP_Std</th>\n",
       "    </tr>\n",
       "  </thead>\n",
       "  <tbody>\n",
       "    <tr>\n",
       "      <th>0</th>\n",
       "      <td>FDA15</td>\n",
       "      <td>9.30</td>\n",
       "      <td>Low Fat</td>\n",
       "      <td>0.061439</td>\n",
       "      <td>Dairy</td>\n",
       "      <td>249.8092</td>\n",
       "      <td>OUT049</td>\n",
       "      <td>1999</td>\n",
       "      <td>Medium</td>\n",
       "      <td>Tier 1</td>\n",
       "      <td>Supermarket Type1</td>\n",
       "      <td>3735.1380</td>\n",
       "      <td>train</td>\n",
       "      <td>3.564763</td>\n",
       "      <td>14</td>\n",
       "      <td>Food</td>\n",
       "      <td>FDA</td>\n",
       "      <td>691</td>\n",
       "      <td>1</td>\n",
       "      <td>Very_High</td>\n",
       "      <td>141.163199</td>\n",
       "      <td>62.144594</td>\n",
       "    </tr>\n",
       "    <tr>\n",
       "      <th>1</th>\n",
       "      <td>DRC01</td>\n",
       "      <td>5.92</td>\n",
       "      <td>Regular</td>\n",
       "      <td>0.061780</td>\n",
       "      <td>Soft Drinks</td>\n",
       "      <td>48.2692</td>\n",
       "      <td>OUT018</td>\n",
       "      <td>2009</td>\n",
       "      <td>Medium</td>\n",
       "      <td>Tier 3</td>\n",
       "      <td>Supermarket Type2</td>\n",
       "      <td>443.4228</td>\n",
       "      <td>train</td>\n",
       "      <td>2.991282</td>\n",
       "      <td>4</td>\n",
       "      <td>Drinks</td>\n",
       "      <td>DRC</td>\n",
       "      <td>109</td>\n",
       "      <td>1</td>\n",
       "      <td>Low</td>\n",
       "      <td>141.000899</td>\n",
       "      <td>62.022851</td>\n",
       "    </tr>\n",
       "  </tbody>\n",
       "</table>\n",
       "</div>"
      ],
      "text/plain": [
       "  Item_Identifier  Item_Weight Item_Fat_Content  Item_Visibility    Item_Type  Item_MRP Outlet_Identifier  Outlet_Establishment_Year Outlet_Size Outlet_Location_Type        Outlet_Type  Item_Outlet_Sales train_test  Item_Visibility_MeanRatio  Outlet_Years Item_Type2 Item_Type3  Item_Fat_Level  isSupermarket Item_MRP_Level  By_Outlet_Identifier_MRP_Mean  By_Outlet_Identifier_MRP_Std\n",
       "0           FDA15         9.30          Low Fat         0.061439        Dairy  249.8092            OUT049                       1999      Medium               Tier 1  Supermarket Type1          3735.1380      train                   3.564763            14       Food        FDA             691              1      Very_High                     141.163199                     62.144594\n",
       "1           DRC01         5.92          Regular         0.061780  Soft Drinks   48.2692            OUT018                       2009      Medium               Tier 3  Supermarket Type2           443.4228      train                   2.991282             4     Drinks        DRC             109              1            Low                     141.000899                     62.022851"
      ]
     },
     "metadata": {},
     "output_type": "display_data"
    }
   ],
   "source": [
    "aggregation = df_all.groupby('Outlet_Identifier')['Item_MRP'].agg(['mean','std']).reset_index()\\\n",
    "                 .rename(columns={\n",
    "                     'mean': 'By_Outlet_Identifier_MRP_Mean',\n",
    "                     'std': 'By_Outlet_Identifier_MRP_Std'\n",
    "})\n",
    "print(aggregation.shape)\n",
    "display(aggregation.head(2))\n",
    "\n",
    "df_all = df_all.merge(aggregation,how='left',on='Outlet_Identifier')\n",
    "display(df_all.head(2))"
   ]
  },
  {
   "cell_type": "code",
   "execution_count": 377,
   "metadata": {},
   "outputs": [
    {
     "name": "stdout",
     "output_type": "stream",
     "text": [
      "(71, 3)\n"
     ]
    },
    {
     "data": {
      "text/html": [
       "<div>\n",
       "<style scoped>\n",
       "    .dataframe tbody tr th:only-of-type {\n",
       "        vertical-align: middle;\n",
       "    }\n",
       "\n",
       "    .dataframe tbody tr th {\n",
       "        vertical-align: top;\n",
       "    }\n",
       "\n",
       "    .dataframe thead th {\n",
       "        text-align: right;\n",
       "    }\n",
       "</style>\n",
       "<table border=\"1\" class=\"dataframe\">\n",
       "  <thead>\n",
       "    <tr style=\"text-align: right;\">\n",
       "      <th></th>\n",
       "      <th>Item_Type3</th>\n",
       "      <th>By_Item_Type3_MRP_Mean</th>\n",
       "      <th>By_Item_Type3_MRP_Std</th>\n",
       "    </tr>\n",
       "  </thead>\n",
       "  <tbody>\n",
       "    <tr>\n",
       "      <th>0</th>\n",
       "      <td>DRA</td>\n",
       "      <td>164.314848</td>\n",
       "      <td>17.844147</td>\n",
       "    </tr>\n",
       "    <tr>\n",
       "      <th>1</th>\n",
       "      <td>DRB</td>\n",
       "      <td>133.743264</td>\n",
       "      <td>57.980784</td>\n",
       "    </tr>\n",
       "  </tbody>\n",
       "</table>\n",
       "</div>"
      ],
      "text/plain": [
       "  Item_Type3  By_Item_Type3_MRP_Mean  By_Item_Type3_MRP_Std\n",
       "0        DRA              164.314848              17.844147\n",
       "1        DRB              133.743264              57.980784"
      ]
     },
     "metadata": {},
     "output_type": "display_data"
    },
    {
     "data": {
      "text/html": [
       "<div>\n",
       "<style scoped>\n",
       "    .dataframe tbody tr th:only-of-type {\n",
       "        vertical-align: middle;\n",
       "    }\n",
       "\n",
       "    .dataframe tbody tr th {\n",
       "        vertical-align: top;\n",
       "    }\n",
       "\n",
       "    .dataframe thead th {\n",
       "        text-align: right;\n",
       "    }\n",
       "</style>\n",
       "<table border=\"1\" class=\"dataframe\">\n",
       "  <thead>\n",
       "    <tr style=\"text-align: right;\">\n",
       "      <th></th>\n",
       "      <th>Item_Identifier</th>\n",
       "      <th>Item_Weight</th>\n",
       "      <th>Item_Fat_Content</th>\n",
       "      <th>Item_Visibility</th>\n",
       "      <th>Item_Type</th>\n",
       "      <th>Item_MRP</th>\n",
       "      <th>Outlet_Identifier</th>\n",
       "      <th>Outlet_Establishment_Year</th>\n",
       "      <th>Outlet_Size</th>\n",
       "      <th>Outlet_Location_Type</th>\n",
       "      <th>Outlet_Type</th>\n",
       "      <th>Item_Outlet_Sales</th>\n",
       "      <th>train_test</th>\n",
       "      <th>Item_Visibility_MeanRatio</th>\n",
       "      <th>Outlet_Years</th>\n",
       "      <th>Item_Type2</th>\n",
       "      <th>Item_Type3</th>\n",
       "      <th>Item_Fat_Level</th>\n",
       "      <th>isSupermarket</th>\n",
       "      <th>Item_MRP_Level</th>\n",
       "      <th>By_Outlet_Identifier_MRP_Mean</th>\n",
       "      <th>By_Outlet_Identifier_MRP_Std</th>\n",
       "      <th>By_Item_Type3_MRP_Mean</th>\n",
       "      <th>By_Item_Type3_MRP_Std</th>\n",
       "    </tr>\n",
       "  </thead>\n",
       "  <tbody>\n",
       "    <tr>\n",
       "      <th>0</th>\n",
       "      <td>FDA15</td>\n",
       "      <td>9.30</td>\n",
       "      <td>Low Fat</td>\n",
       "      <td>0.061439</td>\n",
       "      <td>Dairy</td>\n",
       "      <td>249.8092</td>\n",
       "      <td>OUT049</td>\n",
       "      <td>1999</td>\n",
       "      <td>Medium</td>\n",
       "      <td>Tier 1</td>\n",
       "      <td>Supermarket Type1</td>\n",
       "      <td>3735.1380</td>\n",
       "      <td>train</td>\n",
       "      <td>3.564763</td>\n",
       "      <td>14</td>\n",
       "      <td>Food</td>\n",
       "      <td>FDA</td>\n",
       "      <td>691</td>\n",
       "      <td>1</td>\n",
       "      <td>Very_High</td>\n",
       "      <td>141.163199</td>\n",
       "      <td>62.144594</td>\n",
       "      <td>152.065381</td>\n",
       "      <td>59.822985</td>\n",
       "    </tr>\n",
       "    <tr>\n",
       "      <th>1</th>\n",
       "      <td>DRC01</td>\n",
       "      <td>5.92</td>\n",
       "      <td>Regular</td>\n",
       "      <td>0.061780</td>\n",
       "      <td>Soft Drinks</td>\n",
       "      <td>48.2692</td>\n",
       "      <td>OUT018</td>\n",
       "      <td>2009</td>\n",
       "      <td>Medium</td>\n",
       "      <td>Tier 3</td>\n",
       "      <td>Supermarket Type2</td>\n",
       "      <td>443.4228</td>\n",
       "      <td>train</td>\n",
       "      <td>2.991282</td>\n",
       "      <td>4</td>\n",
       "      <td>Drinks</td>\n",
       "      <td>DRC</td>\n",
       "      <td>109</td>\n",
       "      <td>1</td>\n",
       "      <td>Low</td>\n",
       "      <td>141.000899</td>\n",
       "      <td>62.022851</td>\n",
       "      <td>146.596008</td>\n",
       "      <td>58.850898</td>\n",
       "    </tr>\n",
       "  </tbody>\n",
       "</table>\n",
       "</div>"
      ],
      "text/plain": [
       "  Item_Identifier  Item_Weight Item_Fat_Content  Item_Visibility    Item_Type  Item_MRP Outlet_Identifier  Outlet_Establishment_Year Outlet_Size Outlet_Location_Type        Outlet_Type  Item_Outlet_Sales train_test  Item_Visibility_MeanRatio  Outlet_Years Item_Type2 Item_Type3  Item_Fat_Level  isSupermarket Item_MRP_Level  By_Outlet_Identifier_MRP_Mean  By_Outlet_Identifier_MRP_Std  By_Item_Type3_MRP_Mean  By_Item_Type3_MRP_Std\n",
       "0           FDA15         9.30          Low Fat         0.061439        Dairy  249.8092            OUT049                       1999      Medium               Tier 1  Supermarket Type1          3735.1380      train                   3.564763            14       Food        FDA             691              1      Very_High                     141.163199                     62.144594              152.065381              59.822985\n",
       "1           DRC01         5.92          Regular         0.061780  Soft Drinks   48.2692            OUT018                       2009      Medium               Tier 3  Supermarket Type2           443.4228      train                   2.991282             4     Drinks        DRC             109              1            Low                     141.000899                     62.022851              146.596008              58.850898"
      ]
     },
     "metadata": {},
     "output_type": "display_data"
    }
   ],
   "source": [
    "aggregation = df_all.groupby('Item_Type3')['Item_MRP'].agg(['mean','std']).reset_index()\\\n",
    "                 .rename(columns={\n",
    "                     'mean': 'By_Item_Type3_MRP_Mean',\n",
    "                     'std': 'By_Item_Type3_MRP_Std'\n",
    "})\n",
    "print(aggregation.shape)\n",
    "display(aggregation.head(2))\n",
    "\n",
    "df_all = df_all.merge(aggregation,how='left',on='Item_Type3')\n",
    "display(df_all.head(2))"
   ]
  },
  {
   "cell_type": "code",
   "execution_count": null,
   "metadata": {},
   "outputs": [],
   "source": []
  },
  {
   "cell_type": "code",
   "execution_count": 378,
   "metadata": {},
   "outputs": [
    {
     "data": {
      "text/plain": [
       "<matplotlib.collections.PathCollection at 0x1a190cd710>"
      ]
     },
     "execution_count": 378,
     "metadata": {},
     "output_type": "execute_result"
    },
    {
     "data": {
      "image/png": "[encoded data removed]",
      "text/plain": [
       "<Figure size 432x288 with 1 Axes>"
      ]
     },
     "metadata": {
      "needs_background": "light"
     },
     "output_type": "display_data"
    }
   ],
   "source": [
    "plt.scatter(df_all['Item_Outlet_Sales'],df_all['Item_MRP'])"
   ]
  },
  {
   "cell_type": "code",
   "execution_count": null,
   "metadata": {},
   "outputs": [],
   "source": []
  },
  {
   "cell_type": "markdown",
   "metadata": {},
   "source": [
    "### 1.10 Encode Ordered Factor and 2 Class Factor"
   ]
  },
  {
   "cell_type": "code",
   "execution_count": 379,
   "metadata": {},
   "outputs": [
    {
     "data": {
      "text/plain": [
       "array(['Medium', 'Small', 'High'], dtype=object)"
      ]
     },
     "execution_count": 379,
     "metadata": {},
     "output_type": "execute_result"
    }
   ],
   "source": [
    "df_all['Outlet_Size'].unique()"
   ]
  },
  {
   "cell_type": "code",
   "execution_count": 380,
   "metadata": {},
   "outputs": [
    {
     "data": {
      "text/plain": [
       "array(['Low Fat', 'Regular', 'Non-Edible'], dtype=object)"
      ]
     },
     "execution_count": 380,
     "metadata": {},
     "output_type": "execute_result"
    }
   ],
   "source": [
    "df_all['Item_Fat_Content'].unique()"
   ]
  },
  {
   "cell_type": "code",
   "execution_count": 381,
   "metadata": {},
   "outputs": [],
   "source": [
    "df_all['Outlet_Size']=df_all['Outlet_Size'].map({'Small':1,'Medium':3,'High':5}) \n",
    "df_all['Item_Fat_Content']=df_all['Item_Fat_Content'].map({'Regular':5,'Low Fat':3,'Non-Edible':1})\n"
   ]
  },
  {
   "cell_type": "code",
   "execution_count": null,
   "metadata": {},
   "outputs": [],
   "source": []
  },
  {
   "cell_type": "markdown",
   "metadata": {},
   "source": [
    "### 1.11 Encoded Categorical Factor (One Hot Encoding)"
   ]
  },
  {
   "cell_type": "code",
   "execution_count": 382,
   "metadata": {},
   "outputs": [],
   "source": [
    "train_test = df_all['train_test']"
   ]
  },
  {
   "cell_type": "code",
   "execution_count": 383,
   "metadata": {},
   "outputs": [
    {
     "data": {
      "text/html": [
       "<div>\n",
       "<style scoped>\n",
       "    .dataframe tbody tr th:only-of-type {\n",
       "        vertical-align: middle;\n",
       "    }\n",
       "\n",
       "    .dataframe tbody tr th {\n",
       "        vertical-align: top;\n",
       "    }\n",
       "\n",
       "    .dataframe thead th {\n",
       "        text-align: right;\n",
       "    }\n",
       "</style>\n",
       "<table border=\"1\" class=\"dataframe\">\n",
       "  <thead>\n",
       "    <tr style=\"text-align: right;\">\n",
       "      <th></th>\n",
       "      <th>Item_Weight</th>\n",
       "      <th>Item_Fat_Content</th>\n",
       "      <th>Item_Visibility</th>\n",
       "      <th>Item_MRP</th>\n",
       "      <th>Outlet_Establishment_Year</th>\n",
       "      <th>Outlet_Size</th>\n",
       "      <th>Item_Outlet_Sales</th>\n",
       "      <th>Item_Visibility_MeanRatio</th>\n",
       "      <th>Outlet_Years</th>\n",
       "      <th>Item_Fat_Level</th>\n",
       "      <th>isSupermarket</th>\n",
       "      <th>By_Outlet_Identifier_MRP_Mean</th>\n",
       "      <th>By_Outlet_Identifier_MRP_Std</th>\n",
       "      <th>By_Item_Type3_MRP_Mean</th>\n",
       "      <th>By_Item_Type3_MRP_Std</th>\n",
       "    </tr>\n",
       "  </thead>\n",
       "  <tbody>\n",
       "    <tr>\n",
       "      <th>0</th>\n",
       "      <td>9.3</td>\n",
       "      <td>3</td>\n",
       "      <td>0.061439</td>\n",
       "      <td>249.8092</td>\n",
       "      <td>1999</td>\n",
       "      <td>3</td>\n",
       "      <td>3735.138</td>\n",
       "      <td>3.564763</td>\n",
       "      <td>14</td>\n",
       "      <td>691</td>\n",
       "      <td>1</td>\n",
       "      <td>141.163199</td>\n",
       "      <td>62.144594</td>\n",
       "      <td>152.065381</td>\n",
       "      <td>59.822985</td>\n",
       "    </tr>\n",
       "  </tbody>\n",
       "</table>\n",
       "</div>"
      ],
      "text/plain": [
       "   Item_Weight  Item_Fat_Content  Item_Visibility  Item_MRP  Outlet_Establishment_Year  Outlet_Size  Item_Outlet_Sales  Item_Visibility_MeanRatio  Outlet_Years  Item_Fat_Level  isSupermarket  By_Outlet_Identifier_MRP_Mean  By_Outlet_Identifier_MRP_Std  By_Item_Type3_MRP_Mean  By_Item_Type3_MRP_Std\n",
       "0          9.3                 3         0.061439  249.8092                       1999            3           3735.138                   3.564763            14             691              1                     141.163199                     62.144594              152.065381              59.822985"
      ]
     },
     "execution_count": 383,
     "metadata": {},
     "output_type": "execute_result"
    }
   ],
   "source": [
    "numeric_features = df_all.select_dtypes(exclude=['object'])\n",
    "numeric_features.head(1)"
   ]
  },
  {
   "cell_type": "code",
   "execution_count": 384,
   "metadata": {},
   "outputs": [
    {
     "data": {
      "text/html": [
       "<div>\n",
       "<style scoped>\n",
       "    .dataframe tbody tr th:only-of-type {\n",
       "        vertical-align: middle;\n",
       "    }\n",
       "\n",
       "    .dataframe tbody tr th {\n",
       "        vertical-align: top;\n",
       "    }\n",
       "\n",
       "    .dataframe thead th {\n",
       "        text-align: right;\n",
       "    }\n",
       "</style>\n",
       "<table border=\"1\" class=\"dataframe\">\n",
       "  <thead>\n",
       "    <tr style=\"text-align: right;\">\n",
       "      <th></th>\n",
       "      <th>Item_Type</th>\n",
       "      <th>Outlet_Identifier</th>\n",
       "      <th>Outlet_Location_Type</th>\n",
       "      <th>Outlet_Type</th>\n",
       "      <th>Item_Type2</th>\n",
       "      <th>Item_Type3</th>\n",
       "      <th>Item_MRP_Level</th>\n",
       "    </tr>\n",
       "  </thead>\n",
       "  <tbody>\n",
       "    <tr>\n",
       "      <th>0</th>\n",
       "      <td>Dairy</td>\n",
       "      <td>OUT049</td>\n",
       "      <td>Tier 1</td>\n",
       "      <td>Supermarket Type1</td>\n",
       "      <td>Food</td>\n",
       "      <td>FDA</td>\n",
       "      <td>Very_High</td>\n",
       "    </tr>\n",
       "  </tbody>\n",
       "</table>\n",
       "</div>"
      ],
      "text/plain": [
       "  Item_Type Outlet_Identifier Outlet_Location_Type        Outlet_Type Item_Type2 Item_Type3 Item_MRP_Level\n",
       "0     Dairy            OUT049               Tier 1  Supermarket Type1       Food        FDA      Very_High"
      ]
     },
     "execution_count": 384,
     "metadata": {},
     "output_type": "execute_result"
    }
   ],
   "source": [
    "categorical_features = df_all.select_dtypes(include=['object']).drop(['Item_Identifier','train_test'],1)\n",
    "categorical_features.head(1)"
   ]
  },
  {
   "cell_type": "code",
   "execution_count": 385,
   "metadata": {},
   "outputs": [
    {
     "data": {
      "text/html": [
       "<div>\n",
       "<style scoped>\n",
       "    .dataframe tbody tr th:only-of-type {\n",
       "        vertical-align: middle;\n",
       "    }\n",
       "\n",
       "    .dataframe tbody tr th {\n",
       "        vertical-align: top;\n",
       "    }\n",
       "\n",
       "    .dataframe thead th {\n",
       "        text-align: right;\n",
       "    }\n",
       "</style>\n",
       "<table border=\"1\" class=\"dataframe\">\n",
       "  <thead>\n",
       "    <tr style=\"text-align: right;\">\n",
       "      <th></th>\n",
       "      <th>Item_Type_Baking Goods</th>\n",
       "      <th>Item_Type_Breads</th>\n",
       "      <th>Item_Type_Breakfast</th>\n",
       "      <th>Item_Type_Canned</th>\n",
       "      <th>Item_Type_Dairy</th>\n",
       "      <th>Item_Type_Frozen Foods</th>\n",
       "      <th>Item_Type_Fruits and Vegetables</th>\n",
       "      <th>Item_Type_Hard Drinks</th>\n",
       "      <th>Item_Type_Health and Hygiene</th>\n",
       "      <th>Item_Type_Household</th>\n",
       "      <th>Item_Type_Meat</th>\n",
       "      <th>Item_Type_Others</th>\n",
       "      <th>Item_Type_Seafood</th>\n",
       "      <th>Item_Type_Snack Foods</th>\n",
       "      <th>Item_Type_Soft Drinks</th>\n",
       "      <th>Item_Type_Starchy Foods</th>\n",
       "      <th>Outlet_Identifier_OUT010</th>\n",
       "      <th>Outlet_Identifier_OUT013</th>\n",
       "      <th>Outlet_Identifier_OUT017</th>\n",
       "      <th>Outlet_Identifier_OUT018</th>\n",
       "      <th>Outlet_Identifier_OUT019</th>\n",
       "      <th>Outlet_Identifier_OUT027</th>\n",
       "      <th>Outlet_Identifier_OUT035</th>\n",
       "      <th>Outlet_Identifier_OUT045</th>\n",
       "      <th>Outlet_Identifier_OUT046</th>\n",
       "      <th>Outlet_Identifier_OUT049</th>\n",
       "      <th>Outlet_Location_Type_Tier 1</th>\n",
       "      <th>Outlet_Location_Type_Tier 2</th>\n",
       "      <th>Outlet_Location_Type_Tier 3</th>\n",
       "      <th>Outlet_Type_Grocery Store</th>\n",
       "      <th>Outlet_Type_Supermarket Type1</th>\n",
       "      <th>Outlet_Type_Supermarket Type2</th>\n",
       "      <th>Outlet_Type_Supermarket Type3</th>\n",
       "      <th>Item_Type2_Drinks</th>\n",
       "      <th>Item_Type2_Food</th>\n",
       "      <th>Item_Type2_Non-Consumable</th>\n",
       "      <th>Item_Type3_DRA</th>\n",
       "      <th>Item_Type3_DRB</th>\n",
       "      <th>Item_Type3_DRC</th>\n",
       "      <th>Item_Type3_DRD</th>\n",
       "      <th>Item_Type3_DRE</th>\n",
       "      <th>Item_Type3_DRF</th>\n",
       "      <th>Item_Type3_DRG</th>\n",
       "      <th>Item_Type3_DRH</th>\n",
       "      <th>Item_Type3_DRI</th>\n",
       "      <th>Item_Type3_DRJ</th>\n",
       "      <th>Item_Type3_DRK</th>\n",
       "      <th>Item_Type3_DRL</th>\n",
       "      <th>Item_Type3_DRM</th>\n",
       "      <th>Item_Type3_DRN</th>\n",
       "      <th>Item_Type3_DRO</th>\n",
       "      <th>Item_Type3_DRP</th>\n",
       "      <th>Item_Type3_DRQ</th>\n",
       "      <th>Item_Type3_DRY</th>\n",
       "      <th>Item_Type3_DRZ</th>\n",
       "      <th>Item_Type3_FDA</th>\n",
       "      <th>Item_Type3_FDB</th>\n",
       "      <th>Item_Type3_FDC</th>\n",
       "      <th>Item_Type3_FDD</th>\n",
       "      <th>Item_Type3_FDE</th>\n",
       "      <th>Item_Type3_FDF</th>\n",
       "      <th>Item_Type3_FDG</th>\n",
       "      <th>Item_Type3_FDH</th>\n",
       "      <th>Item_Type3_FDI</th>\n",
       "      <th>Item_Type3_FDJ</th>\n",
       "      <th>Item_Type3_FDK</th>\n",
       "      <th>Item_Type3_FDL</th>\n",
       "      <th>Item_Type3_FDM</th>\n",
       "      <th>Item_Type3_FDN</th>\n",
       "      <th>Item_Type3_FDO</th>\n",
       "      <th>Item_Type3_FDP</th>\n",
       "      <th>Item_Type3_FDQ</th>\n",
       "      <th>Item_Type3_FDR</th>\n",
       "      <th>Item_Type3_FDS</th>\n",
       "      <th>Item_Type3_FDT</th>\n",
       "      <th>Item_Type3_FDU</th>\n",
       "      <th>Item_Type3_FDV</th>\n",
       "      <th>Item_Type3_FDW</th>\n",
       "      <th>Item_Type3_FDX</th>\n",
       "      <th>Item_Type3_FDY</th>\n",
       "      <th>Item_Type3_FDZ</th>\n",
       "      <th>Item_Type3_NCA</th>\n",
       "      <th>Item_Type3_NCB</th>\n",
       "      <th>Item_Type3_NCC</th>\n",
       "      <th>Item_Type3_NCD</th>\n",
       "      <th>Item_Type3_NCE</th>\n",
       "      <th>Item_Type3_NCF</th>\n",
       "      <th>Item_Type3_NCG</th>\n",
       "      <th>Item_Type3_NCH</th>\n",
       "      <th>Item_Type3_NCI</th>\n",
       "      <th>Item_Type3_NCJ</th>\n",
       "      <th>Item_Type3_NCK</th>\n",
       "      <th>Item_Type3_NCL</th>\n",
       "      <th>Item_Type3_NCM</th>\n",
       "      <th>Item_Type3_NCN</th>\n",
       "      <th>Item_Type3_NCO</th>\n",
       "      <th>Item_Type3_NCP</th>\n",
       "      <th>Item_Type3_NCQ</th>\n",
       "      <th>Item_Type3_NCR</th>\n",
       "      <th>Item_Type3_NCS</th>\n",
       "      <th>Item_Type3_NCT</th>\n",
       "      <th>Item_Type3_NCU</th>\n",
       "      <th>Item_Type3_NCV</th>\n",
       "      <th>Item_Type3_NCW</th>\n",
       "      <th>Item_Type3_NCX</th>\n",
       "      <th>Item_Type3_NCY</th>\n",
       "      <th>Item_Type3_NCZ</th>\n",
       "      <th>Item_MRP_Level_High</th>\n",
       "      <th>Item_MRP_Level_Low</th>\n",
       "      <th>Item_MRP_Level_Medium</th>\n",
       "      <th>Item_MRP_Level_Very_High</th>\n",
       "    </tr>\n",
       "  </thead>\n",
       "  <tbody>\n",
       "    <tr>\n",
       "      <th>0</th>\n",
       "      <td>0</td>\n",
       "      <td>0</td>\n",
       "      <td>0</td>\n",
       "      <td>0</td>\n",
       "      <td>1</td>\n",
       "      <td>0</td>\n",
       "      <td>0</td>\n",
       "      <td>0</td>\n",
       "      <td>0</td>\n",
       "      <td>0</td>\n",
       "      <td>0</td>\n",
       "      <td>0</td>\n",
       "      <td>0</td>\n",
       "      <td>0</td>\n",
       "      <td>0</td>\n",
       "      <td>0</td>\n",
       "      <td>0</td>\n",
       "      <td>0</td>\n",
       "      <td>0</td>\n",
       "      <td>0</td>\n",
       "      <td>0</td>\n",
       "      <td>0</td>\n",
       "      <td>0</td>\n",
       "      <td>0</td>\n",
       "      <td>0</td>\n",
       "      <td>1</td>\n",
       "      <td>1</td>\n",
       "      <td>0</td>\n",
       "      <td>0</td>\n",
       "      <td>0</td>\n",
       "      <td>1</td>\n",
       "      <td>0</td>\n",
       "      <td>0</td>\n",
       "      <td>0</td>\n",
       "      <td>1</td>\n",
       "      <td>0</td>\n",
       "      <td>0</td>\n",
       "      <td>0</td>\n",
       "      <td>0</td>\n",
       "      <td>0</td>\n",
       "      <td>0</td>\n",
       "      <td>0</td>\n",
       "      <td>0</td>\n",
       "      <td>0</td>\n",
       "      <td>0</td>\n",
       "      <td>0</td>\n",
       "      <td>0</td>\n",
       "      <td>0</td>\n",
       "      <td>0</td>\n",
       "      <td>0</td>\n",
       "      <td>0</td>\n",
       "      <td>0</td>\n",
       "      <td>0</td>\n",
       "      <td>0</td>\n",
       "      <td>0</td>\n",
       "      <td>1</td>\n",
       "      <td>0</td>\n",
       "      <td>0</td>\n",
       "      <td>0</td>\n",
       "      <td>0</td>\n",
       "      <td>0</td>\n",
       "      <td>0</td>\n",
       "      <td>0</td>\n",
       "      <td>0</td>\n",
       "      <td>0</td>\n",
       "      <td>0</td>\n",
       "      <td>0</td>\n",
       "      <td>0</td>\n",
       "      <td>0</td>\n",
       "      <td>0</td>\n",
       "      <td>0</td>\n",
       "      <td>0</td>\n",
       "      <td>0</td>\n",
       "      <td>0</td>\n",
       "      <td>0</td>\n",
       "      <td>0</td>\n",
       "      <td>0</td>\n",
       "      <td>0</td>\n",
       "      <td>0</td>\n",
       "      <td>0</td>\n",
       "      <td>0</td>\n",
       "      <td>0</td>\n",
       "      <td>0</td>\n",
       "      <td>0</td>\n",
       "      <td>0</td>\n",
       "      <td>0</td>\n",
       "      <td>0</td>\n",
       "      <td>0</td>\n",
       "      <td>0</td>\n",
       "      <td>0</td>\n",
       "      <td>0</td>\n",
       "      <td>0</td>\n",
       "      <td>0</td>\n",
       "      <td>0</td>\n",
       "      <td>0</td>\n",
       "      <td>0</td>\n",
       "      <td>0</td>\n",
       "      <td>0</td>\n",
       "      <td>0</td>\n",
       "      <td>0</td>\n",
       "      <td>0</td>\n",
       "      <td>0</td>\n",
       "      <td>0</td>\n",
       "      <td>0</td>\n",
       "      <td>0</td>\n",
       "      <td>0</td>\n",
       "      <td>0</td>\n",
       "      <td>0</td>\n",
       "      <td>0</td>\n",
       "      <td>0</td>\n",
       "      <td>1</td>\n",
       "    </tr>\n",
       "    <tr>\n",
       "      <th>1</th>\n",
       "      <td>0</td>\n",
       "      <td>0</td>\n",
       "      <td>0</td>\n",
       "      <td>0</td>\n",
       "      <td>0</td>\n",
       "      <td>0</td>\n",
       "      <td>0</td>\n",
       "      <td>0</td>\n",
       "      <td>0</td>\n",
       "      <td>0</td>\n",
       "      <td>0</td>\n",
       "      <td>0</td>\n",
       "      <td>0</td>\n",
       "      <td>0</td>\n",
       "      <td>1</td>\n",
       "      <td>0</td>\n",
       "      <td>0</td>\n",
       "      <td>0</td>\n",
       "      <td>0</td>\n",
       "      <td>1</td>\n",
       "      <td>0</td>\n",
       "      <td>0</td>\n",
       "      <td>0</td>\n",
       "      <td>0</td>\n",
       "      <td>0</td>\n",
       "      <td>0</td>\n",
       "      <td>0</td>\n",
       "      <td>0</td>\n",
       "      <td>1</td>\n",
       "      <td>0</td>\n",
       "      <td>0</td>\n",
       "      <td>1</td>\n",
       "      <td>0</td>\n",
       "      <td>1</td>\n",
       "      <td>0</td>\n",
       "      <td>0</td>\n",
       "      <td>0</td>\n",
       "      <td>0</td>\n",
       "      <td>1</td>\n",
       "      <td>0</td>\n",
       "      <td>0</td>\n",
       "      <td>0</td>\n",
       "      <td>0</td>\n",
       "      <td>0</td>\n",
       "      <td>0</td>\n",
       "      <td>0</td>\n",
       "      <td>0</td>\n",
       "      <td>0</td>\n",
       "      <td>0</td>\n",
       "      <td>0</td>\n",
       "      <td>0</td>\n",
       "      <td>0</td>\n",
       "      <td>0</td>\n",
       "      <td>0</td>\n",
       "      <td>0</td>\n",
       "      <td>0</td>\n",
       "      <td>0</td>\n",
       "      <td>0</td>\n",
       "      <td>0</td>\n",
       "      <td>0</td>\n",
       "      <td>0</td>\n",
       "      <td>0</td>\n",
       "      <td>0</td>\n",
       "      <td>0</td>\n",
       "      <td>0</td>\n",
       "      <td>0</td>\n",
       "      <td>0</td>\n",
       "      <td>0</td>\n",
       "      <td>0</td>\n",
       "      <td>0</td>\n",
       "      <td>0</td>\n",
       "      <td>0</td>\n",
       "      <td>0</td>\n",
       "      <td>0</td>\n",
       "      <td>0</td>\n",
       "      <td>0</td>\n",
       "      <td>0</td>\n",
       "      <td>0</td>\n",
       "      <td>0</td>\n",
       "      <td>0</td>\n",
       "      <td>0</td>\n",
       "      <td>0</td>\n",
       "      <td>0</td>\n",
       "      <td>0</td>\n",
       "      <td>0</td>\n",
       "      <td>0</td>\n",
       "      <td>0</td>\n",
       "      <td>0</td>\n",
       "      <td>0</td>\n",
       "      <td>0</td>\n",
       "      <td>0</td>\n",
       "      <td>0</td>\n",
       "      <td>0</td>\n",
       "      <td>0</td>\n",
       "      <td>0</td>\n",
       "      <td>0</td>\n",
       "      <td>0</td>\n",
       "      <td>0</td>\n",
       "      <td>0</td>\n",
       "      <td>0</td>\n",
       "      <td>0</td>\n",
       "      <td>0</td>\n",
       "      <td>0</td>\n",
       "      <td>0</td>\n",
       "      <td>0</td>\n",
       "      <td>0</td>\n",
       "      <td>0</td>\n",
       "      <td>0</td>\n",
       "      <td>1</td>\n",
       "      <td>0</td>\n",
       "      <td>0</td>\n",
       "    </tr>\n",
       "  </tbody>\n",
       "</table>\n",
       "</div>"
      ],
      "text/plain": [
       "   Item_Type_Baking Goods  Item_Type_Breads  Item_Type_Breakfast  Item_Type_Canned  Item_Type_Dairy  Item_Type_Frozen Foods  Item_Type_Fruits and Vegetables  Item_Type_Hard Drinks  Item_Type_Health and Hygiene  Item_Type_Household  Item_Type_Meat  Item_Type_Others  Item_Type_Seafood  Item_Type_Snack Foods  Item_Type_Soft Drinks  Item_Type_Starchy Foods  Outlet_Identifier_OUT010  Outlet_Identifier_OUT013  Outlet_Identifier_OUT017  Outlet_Identifier_OUT018  Outlet_Identifier_OUT019  Outlet_Identifier_OUT027  Outlet_Identifier_OUT035  Outlet_Identifier_OUT045  Outlet_Identifier_OUT046  Outlet_Identifier_OUT049  Outlet_Location_Type_Tier 1  Outlet_Location_Type_Tier 2  Outlet_Location_Type_Tier 3  Outlet_Type_Grocery Store  Outlet_Type_Supermarket Type1  Outlet_Type_Supermarket Type2  Outlet_Type_Supermarket Type3  Item_Type2_Drinks  Item_Type2_Food  Item_Type2_Non-Consumable  Item_Type3_DRA  Item_Type3_DRB  Item_Type3_DRC  Item_Type3_DRD  Item_Type3_DRE  Item_Type3_DRF  Item_Type3_DRG  \\\n",
       "0                       0                 0                    0                 0                1                       0                                0                      0                             0                    0               0                 0                  0                      0                      0                        0                         0                         0                         0                         0                         0                         0                         0                         0                         0                         1                            1                            0                            0                          0                              1                              0                              0                  0                1                          0               0               0               0               0               0               0               0   \n",
       "1                       0                 0                    0                 0                0                       0                                0                      0                             0                    0               0                 0                  0                      0                      1                        0                         0                         0                         0                         1                         0                         0                         0                         0                         0                         0                            0                            0                            1                          0                              0                              1                              0                  1                0                          0               0               0               1               0               0               0               0   \n",
       "\n",
       "   Item_Type3_DRH  Item_Type3_DRI  Item_Type3_DRJ  Item_Type3_DRK  Item_Type3_DRL  Item_Type3_DRM  Item_Type3_DRN  Item_Type3_DRO  Item_Type3_DRP  Item_Type3_DRQ  Item_Type3_DRY  Item_Type3_DRZ  Item_Type3_FDA  Item_Type3_FDB  Item_Type3_FDC  Item_Type3_FDD  Item_Type3_FDE  Item_Type3_FDF  Item_Type3_FDG  Item_Type3_FDH  Item_Type3_FDI  Item_Type3_FDJ  Item_Type3_FDK  Item_Type3_FDL  Item_Type3_FDM  Item_Type3_FDN  Item_Type3_FDO  Item_Type3_FDP  Item_Type3_FDQ  Item_Type3_FDR  Item_Type3_FDS  Item_Type3_FDT  Item_Type3_FDU  Item_Type3_FDV  Item_Type3_FDW  Item_Type3_FDX  Item_Type3_FDY  Item_Type3_FDZ  Item_Type3_NCA  Item_Type3_NCB  Item_Type3_NCC  Item_Type3_NCD  Item_Type3_NCE  Item_Type3_NCF  Item_Type3_NCG  Item_Type3_NCH  Item_Type3_NCI  Item_Type3_NCJ  Item_Type3_NCK  Item_Type3_NCL  Item_Type3_NCM  Item_Type3_NCN  Item_Type3_NCO  Item_Type3_NCP  Item_Type3_NCQ  Item_Type3_NCR  Item_Type3_NCS  Item_Type3_NCT  Item_Type3_NCU  Item_Type3_NCV  Item_Type3_NCW  Item_Type3_NCX  \\\n",
       "0               0               0               0               0               0               0               0               0               0               0               0               0               1               0               0               0               0               0               0               0               0               0               0               0               0               0               0               0               0               0               0               0               0               0               0               0               0               0               0               0               0               0               0               0               0               0               0               0               0               0               0               0               0               0               0               0               0               0               0               0               0               0   \n",
       "1               0               0               0               0               0               0               0               0               0               0               0               0               0               0               0               0               0               0               0               0               0               0               0               0               0               0               0               0               0               0               0               0               0               0               0               0               0               0               0               0               0               0               0               0               0               0               0               0               0               0               0               0               0               0               0               0               0               0               0               0               0               0   \n",
       "\n",
       "   Item_Type3_NCY  Item_Type3_NCZ  Item_MRP_Level_High  Item_MRP_Level_Low  Item_MRP_Level_Medium  Item_MRP_Level_Very_High  \n",
       "0               0               0                    0                   0                      0                         1  \n",
       "1               0               0                    0                   1                      0                         0  "
      ]
     },
     "execution_count": 385,
     "metadata": {},
     "output_type": "execute_result"
    }
   ],
   "source": [
    "categorical_features_ohe = pd.get_dummies(categorical_features)\n",
    "categorical_features_ohe.head(2)"
   ]
  },
  {
   "cell_type": "markdown",
   "metadata": {},
   "source": [
    "### 1.12 drop unnecessary features"
   ]
  },
  {
   "cell_type": "code",
   "execution_count": 386,
   "metadata": {},
   "outputs": [
    {
     "name": "stdout",
     "output_type": "stream",
     "text": [
      "(8523, 125)\n",
      "(5681, 125)\n"
     ]
    }
   ],
   "source": [
    "df_all_new = pd.concat([train_test,numeric_features,categorical_features_ohe],1)\n",
    "train = df_all_new[df_all_new['train_test']=='train']\n",
    "\n",
    "trainX = train.drop(['Item_Outlet_Sales','train_test'],1)\n",
    "trainY = train['Item_Outlet_Sales']\n",
    "testX = df_all_new[df_all_new['train_test']=='test'].drop(['Item_Outlet_Sales','train_test'],1)\n",
    "\n",
    "X_columns = trainX.columns\n",
    "\n",
    "print(trainX.shape)\n",
    "print(testX.shape)"
   ]
  },
  {
   "cell_type": "code",
   "execution_count": null,
   "metadata": {},
   "outputs": [],
   "source": []
  },
  {
   "cell_type": "code",
   "execution_count": null,
   "metadata": {},
   "outputs": [],
   "source": []
  },
  {
   "cell_type": "code",
   "execution_count": null,
   "metadata": {},
   "outputs": [],
   "source": []
  },
  {
   "cell_type": "code",
   "execution_count": null,
   "metadata": {},
   "outputs": [],
   "source": []
  },
  {
   "cell_type": "markdown",
   "metadata": {},
   "source": [
    "# 4. Train Model"
   ]
  },
  {
   "cell_type": "code",
   "execution_count": 387,
   "metadata": {},
   "outputs": [],
   "source": [
    "from sklearn.model_selection import train_test_split\n",
    "df_all_new = pd.concat([train_test,numeric_features,categorical_features_ohe],1)\n",
    "train = df_all_new[df_all_new['train_test']=='train']\n",
    "\n",
    "trainX = train.drop(['Item_Outlet_Sales','train_test'],1)\n",
    "trainY = train['Item_Outlet_Sales']\n",
    "testX = df_all_new[df_all_new['train_test']=='test'].drop(['Item_Outlet_Sales','train_test'],1)\n",
    "\n",
    "\n",
    "max_trainY = np.max(trainY)\n",
    "trainX_ = trainX\n",
    "trainY_ = trainY/max_trainY"
   ]
  },
  {
   "cell_type": "code",
   "execution_count": 388,
   "metadata": {},
   "outputs": [],
   "source": [
    "trainX, validX, trainY, validY = train_test_split(trainX, \n",
    "                                                  trainY/max_trainY, \n",
    "                                                  test_size=0.2, random_state=32)\n",
    "\n"
   ]
  },
  {
   "cell_type": "code",
   "execution_count": 389,
   "metadata": {},
   "outputs": [],
   "source": [
    "from sklearn.linear_model import LinearRegression, Lasso\n",
    "from sklearn.tree import DecisionTreeRegressor\n",
    "from sklearn.ensemble import RandomForestRegressor, GradientBoostingRegressor\n",
    "\n",
    "def rmse(predictions, targets):\n",
    "    return np.sqrt(((predictions - targets) ** 2).mean())"
   ]
  },
  {
   "cell_type": "markdown",
   "metadata": {},
   "source": [
    "### 4.1 train benchmark model"
   ]
  },
  {
   "cell_type": "code",
   "execution_count": 390,
   "metadata": {},
   "outputs": [
    {
     "name": "stdout",
     "output_type": "stream",
     "text": [
      "1371.6447183562166\n",
      "1386.285984897373\n"
     ]
    }
   ],
   "source": [
    "reg = LinearRegression(normalize=True)\n",
    "reg.fit(trainX, trainY)\n",
    "\n",
    "trainY_pred = reg.predict(trainX)\n",
    "print(rmse(trainY_pred*max_trainY, trainY*max_trainY))\n",
    "\n",
    "validY_pred = reg.predict(validX)\n",
    "print(rmse(validY_pred*max_trainY, validY*max_trainY))"
   ]
  },
  {
   "cell_type": "code",
   "execution_count": 391,
   "metadata": {},
   "outputs": [],
   "source": [
    "testY_pred = reg.predict(testX)\n",
    "\n",
    "testID = df_all[df_all.train_test=='test'][['Item_Identifier','Outlet_Identifier']]\n",
    "testID['Item_Outlet_Sales'] = testY_pred\n",
    "testID.head()\n",
    "\n",
    "testID.to_csv('Submission.csv',index=None)"
   ]
  },
  {
   "cell_type": "code",
   "execution_count": null,
   "metadata": {},
   "outputs": [],
   "source": []
  },
  {
   "cell_type": "code",
   "execution_count": 309,
   "metadata": {},
   "outputs": [
    {
     "name": "stdout",
     "output_type": "stream",
     "text": [
      "0.06235405138712796\n",
      "0.06149930186827896\n"
     ]
    }
   ],
   "source": [
    "reg = Lasso(alpha=1)\n",
    "reg.fit(trainX, trainY)\n",
    "\n",
    "trainY_pred = reg.predict(trainX)\n",
    "print(rmse(trainY_pred**2, trainY**2))\n",
    "\n",
    "validY_pred = reg.predict(validX)\n",
    "print(rmse(validY_pred**2, validY**2))"
   ]
  },
  {
   "cell_type": "code",
   "execution_count": 187,
   "metadata": {},
   "outputs": [
    {
     "name": "stdout",
     "output_type": "stream",
     "text": [
      "928.8140457293176\n",
      "1213.6125776097847\n"
     ]
    }
   ],
   "source": [
    "reg = DecisionTreeRegressor(min_samples_split=40,\n",
    "                            min_samples_leaf=5,\n",
    "                           max_features = 'auto')\n",
    "reg.fit(trainX, trainY)\n",
    "\n",
    "trainY_pred = reg.predict(trainX)\n",
    "print(rmse(trainY_pred**2, trainY**2))\n",
    "\n",
    "validY_pred = reg.predict(validX)\n",
    "print(rmse(validY_pred**2, validY**2))"
   ]
  },
  {
   "cell_type": "code",
   "execution_count": 193,
   "metadata": {},
   "outputs": [
    {
     "name": "stdout",
     "output_type": "stream",
     "text": [
      "1050.516586149247\n",
      "1092.6443844894466\n"
     ]
    }
   ],
   "source": [
    "reg = RandomForestRegressor(n_estimators=1000,\n",
    "                            max_depth=6, \n",
    "                            min_samples_leaf=10,\n",
    "                            n_jobs=4)\n",
    "reg.fit(trainX, trainY)\n",
    "\n",
    "trainY_pred = reg.predict(trainX)\n",
    "print(rmse(trainY_pred**2, trainY**2))\n",
    "\n",
    "validY_pred = reg.predict(validX)\n",
    "print(rmse(validY_pred**2, validY**2))"
   ]
  },
  {
   "cell_type": "code",
   "execution_count": 338,
   "metadata": {},
   "outputs": [
    {
     "name": "stdout",
     "output_type": "stream",
     "text": [
      "1057.0217149609311\n",
      "1097.78160551221\n"
     ]
    }
   ],
   "source": [
    "1053\n",
    "# reg = GradientBoostingRegressor(n_estimators=1000, \n",
    "#                                 learning_rate=0.01,\n",
    "#                                 min_samples_split = 15,\n",
    "#                                 subsample = 0.4, \n",
    "#                                 max_leaf_nodes = 5,\n",
    "#                                 max_features = 'sqrt')\n",
    "# reg.fit(trainX, trainY)\n",
    "\n",
    "# trainY_pred = reg.predict(trainX)\n",
    "# print(rmse(trainY_pred*max_trainY, trainY*max_trainY))\n",
    "\n",
    "# validY_pred = reg.predict(validX)\n",
    "# print(rmse(validY_pred*max_trainY, validY*max_trainY))"
   ]
  },
  {
   "cell_type": "code",
   "execution_count": 403,
   "metadata": {},
   "outputs": [
    {
     "name": "stdout",
     "output_type": "stream",
     "text": [
      "1034.3447253239708\n",
      "1045.5826068039382\n"
     ]
    }
   ],
   "source": [
    "reg = GradientBoostingRegressor(n_estimators=1000, \n",
    "                                learning_rate=0.01,\n",
    "                                min_samples_split = 10,\n",
    "                                subsample = 0.35, \n",
    "                                max_leaf_nodes = 5)\n",
    "reg.fit(trainX_, trainY_)\n",
    "\n",
    "trainY_pred = reg.predict(trainX)\n",
    "print(rmse(trainY_pred*max_trainY, trainY*max_trainY))\n",
    "\n",
    "validY_pred = reg.predict(validX)\n",
    "print(rmse(validY_pred*max_trainY, validY*max_trainY))"
   ]
  },
  {
   "cell_type": "code",
   "execution_count": 404,
   "metadata": {},
   "outputs": [],
   "source": [
    "testY_pred = reg.predict(testX)\n",
    "\n",
    "testID = df_all[df_all.train_test=='test'][['Item_Identifier','Outlet_Identifier']]\n",
    "testID['Item_Outlet_Sales'] = testY_pred*max_trainY\n",
    "testID.head()\n",
    "\n",
    "testID.to_csv('Submission.csv',index=None)"
   ]
  },
  {
   "cell_type": "markdown",
   "metadata": {},
   "source": [
    "### 4.2 cross validation & grid search hyper parameters on best gbdt model"
   ]
  },
  {
   "cell_type": "code",
   "execution_count": null,
   "metadata": {},
   "outputs": [],
   "source": [
    "from sklearn.model_selection import cross_val_score,GridSearchCV\n",
    "from sklearn.metrics import mean_squared_error, make_scorer\n",
    "\n",
    "scorer = make_scorer(mean_squared_error)\n",
    "gbdt_reg=GradientBoostingRegressor(random_state=10000,learning_rate=0.01,\n",
    "                                   n_estimators=1500,max_features = 'sqrt',\n",
    "                                   subsample = 0.4)\n",
    "    \n",
    "# Apply  GridSearchCV to do the cross validation and find optimal parameters\n",
    "parameters = {'max_leaf_nodes':[6,8,10],\n",
    "              'min_samples_split':[6, 8,10]}\n",
    "grid_obj =  GridSearchCV(gbdt_reg,parameters,cv=3,scoring=scorer)\n",
    "grid_fit = grid_obj.fit(trainX,trainY)  # Fit the data\n",
    "best_gbdt = grid_fit.best_estimator_  # Get the best estimator\n",
    "best_gbdt"
   ]
  },
  {
   "cell_type": "code",
   "execution_count": null,
   "metadata": {},
   "outputs": [],
   "source": [
    "best_gbdt.fit(trainX,trainY)\n",
    "validY_pred = best_gbdt.predict(validX)\n",
    "rmse(validY_pred, validY)"
   ]
  },
  {
   "cell_type": "code",
   "execution_count": null,
   "metadata": {},
   "outputs": [],
   "source": [
    "#### gbdt feature importance\n",
    "df_importance = pd.DataFrame(data = {'features':list(trainX.columns),\n",
    "                     'feature_importances': best_gbdt.feature_importances_})\\\n",
    "    .sort_values('feature_importances',ascending=False).iloc[0:15,].reset_index(drop=True)\n",
    "df_importance"
   ]
  },
  {
   "cell_type": "code",
   "execution_count": null,
   "metadata": {},
   "outputs": [],
   "source": [
    "#plot\n",
    "plt.figure(figsize=(8,5))\n",
    "sns.barplot(x=\"feature_importances\", y=\"features\", data=df_importance,\n",
    "           color='grey')\n",
    "plt.title('Mean Decrease Gini')\n",
    "plt.show()"
   ]
  },
  {
   "cell_type": "markdown",
   "metadata": {},
   "source": [
    "# 5. Pred on Test and Save Submission"
   ]
  },
  {
   "cell_type": "code",
   "execution_count": null,
   "metadata": {},
   "outputs": [],
   "source": [
    "testY_pred = gbdt.predict(testX)\n",
    "\n",
    "testID = df_all[df_all.train_test=='test'][['Item_Identifier','Outlet_Identifier']]\n",
    "testID['Item_Outlet_Sales'] = testY_pred\n",
    "testID.head()\n",
    "\n",
    "testID.to_csv('Submission.csv',index=None)"
   ]
  },
  {
   "cell_type": "code",
   "execution_count": null,
   "metadata": {},
   "outputs": [],
   "source": []
  }
 ],
 "metadata": {
  "kernelspec": {
   "display_name": "Python 3",
   "language": "python",
   "name": "python3"
  },
  "language_info": {
   "codemirror_mode": {
    "name": "ipython",
    "version": 3
   },
   "file_extension": ".py",
   "mimetype": "text/x-python",
   "name": "python",
   "nbconvert_exporter": "python",
   "pygments_lexer": "ipython3",
   "version": "3.6.8"
  }
 },
 "nbformat": 4,
 "nbformat_minor": 2
}
